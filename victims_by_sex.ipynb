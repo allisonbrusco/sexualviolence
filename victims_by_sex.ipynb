{
 "cells": [
  {
   "cell_type": "code",
   "execution_count": 4,
   "id": "97406b4f",
   "metadata": {},
   "outputs": [],
   "source": [
    "import pandas as pd"
   ]
  },
  {
   "cell_type": "code",
   "execution_count": 5,
   "id": "d36ea478",
   "metadata": {},
   "outputs": [],
   "source": [
    "victims_by_sex_df=pd.read_csv('victims-by-sex.csv')"
   ]
  },
  {
   "cell_type": "code",
   "execution_count": 6,
   "id": "0e6b67fe",
   "metadata": {},
   "outputs": [
    {
     "data": {
      "text/html": [
       "<div>\n",
       "<style scoped>\n",
       "    .dataframe tbody tr th:only-of-type {\n",
       "        vertical-align: middle;\n",
       "    }\n",
       "\n",
       "    .dataframe tbody tr th {\n",
       "        vertical-align: top;\n",
       "    }\n",
       "\n",
       "    .dataframe thead th {\n",
       "        text-align: right;\n",
       "    }\n",
       "</style>\n",
       "<table border=\"1\" class=\"dataframe\">\n",
       "  <thead>\n",
       "    <tr style=\"text-align: right;\">\n",
       "      <th></th>\n",
       "      <th>All persons</th>\n",
       "      <th>Unnamed: 1</th>\n",
       "      <th>Female</th>\n",
       "      <th>Unnamed: 3</th>\n",
       "      <th>Male</th>\n",
       "      <th>Unnamed: 5</th>\n",
       "      <th>Unnamed: 6</th>\n",
       "      <th>Unnamed: 7</th>\n",
       "    </tr>\n",
       "  </thead>\n",
       "  <tbody>\n",
       "    <tr>\n",
       "      <th>Year</th>\n",
       "      <td>Average annual count</td>\n",
       "      <td>Rate*</td>\n",
       "      <td>Average annual count</td>\n",
       "      <td>Rate*</td>\n",
       "      <td>Average annual count</td>\n",
       "      <td>NaN</td>\n",
       "      <td>Rate*</td>\n",
       "      <td>NaN</td>\n",
       "    </tr>\n",
       "    <tr>\n",
       "      <th>1995</th>\n",
       "      <td>618,800</td>\n",
       "      <td>2.9</td>\n",
       "      <td>555,600</td>\n",
       "      <td>5</td>\n",
       "      <td>63,100</td>\n",
       "      <td></td>\n",
       "      <td>0.6</td>\n",
       "      <td></td>\n",
       "    </tr>\n",
       "    <tr>\n",
       "      <th>1996</th>\n",
       "      <td>500,200</td>\n",
       "      <td>2.3</td>\n",
       "      <td>443,300</td>\n",
       "      <td>4</td>\n",
       "      <td>56,900</td>\n",
       "      <td></td>\n",
       "      <td>0.5</td>\n",
       "      <td></td>\n",
       "    </tr>\n",
       "    <tr>\n",
       "      <th>1997</th>\n",
       "      <td>495,400</td>\n",
       "      <td>2.3</td>\n",
       "      <td>450,100</td>\n",
       "      <td>4</td>\n",
       "      <td>45,200</td>\n",
       "      <td></td>\n",
       "      <td>0.4</td>\n",
       "      <td></td>\n",
       "    </tr>\n",
       "    <tr>\n",
       "      <th>1998</th>\n",
       "      <td>472,300</td>\n",
       "      <td>2.1</td>\n",
       "      <td>436,400</td>\n",
       "      <td>3.8</td>\n",
       "      <td>35,900</td>\n",
       "      <td></td>\n",
       "      <td>0.3</td>\n",
       "      <td></td>\n",
       "    </tr>\n",
       "  </tbody>\n",
       "</table>\n",
       "</div>"
      ],
      "text/plain": [
       "               All persons Unnamed: 1                Female Unnamed: 3  \\\n",
       "Year  Average annual count      Rate*  Average annual count      Rate*   \n",
       "1995               618,800        2.9               555,600          5   \n",
       "1996               500,200        2.3               443,300          4   \n",
       "1997               495,400        2.3               450,100          4   \n",
       "1998               472,300        2.1               436,400        3.8   \n",
       "\n",
       "                      Male Unnamed: 5 Unnamed: 6 Unnamed: 7  \n",
       "Year  Average annual count        NaN      Rate*        NaN  \n",
       "1995                63,100                   0.6             \n",
       "1996                56,900                   0.5             \n",
       "1997                45,200                   0.4             \n",
       "1998                35,900                   0.3             "
      ]
     },
     "execution_count": 6,
     "metadata": {},
     "output_type": "execute_result"
    }
   ],
   "source": [
    "victims_by_sex_df.head()"
   ]
  },
  {
   "cell_type": "code",
   "execution_count": null,
   "id": "fa34b392",
   "metadata": {},
   "outputs": [],
   "source": []
  }
 ],
 "metadata": {
  "kernelspec": {
   "display_name": "Python 3 (ipykernel)",
   "language": "python",
   "name": "python3"
  },
  "language_info": {
   "codemirror_mode": {
    "name": "ipython",
    "version": 3
   },
   "file_extension": ".py",
   "mimetype": "text/x-python",
   "name": "python",
   "nbconvert_exporter": "python",
   "pygments_lexer": "ipython3",
   "version": "3.9.12"
  }
 },
 "nbformat": 4,
 "nbformat_minor": 5
}
