{
 "cells": [
  {
   "cell_type": "code",
   "execution_count": 7,
   "id": "f1ba38dd",
   "metadata": {},
   "outputs": [],
   "source": [
    "import pandas as pd"
   ]
  },
  {
   "cell_type": "code",
   "execution_count": 8,
   "id": "7ab73613",
   "metadata": {},
   "outputs": [],
   "source": [
    "female_victimization_rates_df= pd.read_csv('female-victim-rates.csv')"
   ]
  },
  {
   "cell_type": "code",
   "execution_count": 9,
   "id": "57018bed",
   "metadata": {},
   "outputs": [
    {
     "data": {
      "text/html": [
       "<div>\n",
       "<style scoped>\n",
       "    .dataframe tbody tr th:only-of-type {\n",
       "        vertical-align: middle;\n",
       "    }\n",
       "\n",
       "    .dataframe tbody tr th {\n",
       "        vertical-align: top;\n",
       "    }\n",
       "\n",
       "    .dataframe thead th {\n",
       "        text-align: right;\n",
       "    }\n",
       "</style>\n",
       "<table border=\"1\" class=\"dataframe\">\n",
       "  <thead>\n",
       "    <tr style=\"text-align: right;\">\n",
       "      <th></th>\n",
       "      <th>Total</th>\n",
       "      <th>Unnamed: 1</th>\n",
       "      <th>Completed</th>\n",
       "      <th>Unnamed: 3</th>\n",
       "      <th>Attempted</th>\n",
       "      <th>Unnamed: 5</th>\n",
       "      <th>Threatened</th>\n",
       "      <th>Unnamed: 7</th>\n",
       "    </tr>\n",
       "  </thead>\n",
       "  <tbody>\n",
       "    <tr>\n",
       "      <th>Year</th>\n",
       "      <td>Average annual count</td>\n",
       "      <td>Rate*</td>\n",
       "      <td>Average annual count</td>\n",
       "      <td>Rate*</td>\n",
       "      <td>Average annual count</td>\n",
       "      <td>Rate*</td>\n",
       "      <td>Average annual count</td>\n",
       "      <td>Rate*</td>\n",
       "    </tr>\n",
       "    <tr>\n",
       "      <th>1995</th>\n",
       "      <td>555,600</td>\n",
       "      <td>5</td>\n",
       "      <td>402,000</td>\n",
       "      <td>3.6</td>\n",
       "      <td>83,900</td>\n",
       "      <td>0.8</td>\n",
       "      <td>69,800</td>\n",
       "      <td>0.6</td>\n",
       "    </tr>\n",
       "    <tr>\n",
       "      <th>1996</th>\n",
       "      <td>443,300</td>\n",
       "      <td>4</td>\n",
       "      <td>304,300</td>\n",
       "      <td>2.7</td>\n",
       "      <td>56,400</td>\n",
       "      <td>0.5</td>\n",
       "      <td>82,600</td>\n",
       "      <td>0.7</td>\n",
       "    </tr>\n",
       "    <tr>\n",
       "      <th>1997</th>\n",
       "      <td>450,100</td>\n",
       "      <td>4</td>\n",
       "      <td>301,400</td>\n",
       "      <td>2.7</td>\n",
       "      <td>55,200</td>\n",
       "      <td>0.5</td>\n",
       "      <td>93,500</td>\n",
       "      <td>0.8</td>\n",
       "    </tr>\n",
       "    <tr>\n",
       "      <th>1998</th>\n",
       "      <td>436,400</td>\n",
       "      <td>3.8</td>\n",
       "      <td>322,100</td>\n",
       "      <td>2.8</td>\n",
       "      <td>62,600</td>\n",
       "      <td>0.5</td>\n",
       "      <td>51,700</td>\n",
       "      <td>0.5</td>\n",
       "    </tr>\n",
       "  </tbody>\n",
       "</table>\n",
       "</div>"
      ],
      "text/plain": [
       "                     Total Unnamed: 1             Completed Unnamed: 3  \\\n",
       "Year  Average annual count      Rate*  Average annual count      Rate*   \n",
       "1995               555,600          5               402,000        3.6   \n",
       "1996               443,300          4               304,300        2.7   \n",
       "1997               450,100          4               301,400        2.7   \n",
       "1998               436,400        3.8               322,100        2.8   \n",
       "\n",
       "                 Attempted Unnamed: 5            Threatened Unnamed: 7  \n",
       "Year  Average annual count      Rate*  Average annual count      Rate*  \n",
       "1995                83,900        0.8                69,800        0.6  \n",
       "1996                56,400        0.5                82,600        0.7  \n",
       "1997                55,200        0.5                93,500        0.8  \n",
       "1998                62,600        0.5                51,700        0.5  "
      ]
     },
     "execution_count": 9,
     "metadata": {},
     "output_type": "execute_result"
    }
   ],
   "source": [
    "female_victimization_rates_df.head()"
   ]
  },
  {
   "cell_type": "code",
   "execution_count": null,
   "id": "b1391083",
   "metadata": {},
   "outputs": [],
   "source": []
  }
 ],
 "metadata": {
  "kernelspec": {
   "display_name": "Python 3 (ipykernel)",
   "language": "python",
   "name": "python3"
  },
  "language_info": {
   "codemirror_mode": {
    "name": "ipython",
    "version": 3
   },
   "file_extension": ".py",
   "mimetype": "text/x-python",
   "name": "python",
   "nbconvert_exporter": "python",
   "pygments_lexer": "ipython3",
   "version": "3.9.12"
  }
 },
 "nbformat": 4,
 "nbformat_minor": 5
}
