{
 "cells": [
  {
   "cell_type": "code",
   "execution_count": 1,
   "id": "44e0baf5",
   "metadata": {},
   "outputs": [],
   "source": [
    "import pandas as pd"
   ]
  },
  {
   "cell_type": "code",
   "execution_count": 2,
   "id": "7c11419b",
   "metadata": {},
   "outputs": [],
   "source": [
    "perpetrator_relationship_df=pd.read_csv('perpetrator-relationship.csv')"
   ]
  },
  {
   "cell_type": "code",
   "execution_count": null,
   "id": "32d85244",
   "metadata": {},
   "outputs": [],
   "source": [
    "#edited the formatting of the original .csv file using TextEdit"
   ]
  },
  {
   "cell_type": "code",
   "execution_count": 3,
   "id": "68b28c65",
   "metadata": {},
   "outputs": [
    {
     "data": {
      "text/html": [
       "<div>\n",
       "<style scoped>\n",
       "    .dataframe tbody tr th:only-of-type {\n",
       "        vertical-align: middle;\n",
       "    }\n",
       "\n",
       "    .dataframe tbody tr th {\n",
       "        vertical-align: top;\n",
       "    }\n",
       "\n",
       "    .dataframe thead th {\n",
       "        text-align: right;\n",
       "    }\n",
       "</style>\n",
       "<table border=\"1\" class=\"dataframe\">\n",
       "  <thead>\n",
       "    <tr style=\"text-align: right;\">\n",
       "      <th></th>\n",
       "      <th>Number of offenders</th>\n",
       "      <th>1994 to 1998</th>\n",
       "      <th>1999 to 2004</th>\n",
       "      <th>2005 to 2010</th>\n",
       "    </tr>\n",
       "  </thead>\n",
       "  <tbody>\n",
       "    <tr>\n",
       "      <th>0</th>\n",
       "      <td>One</td>\n",
       "      <td>93</td>\n",
       "      <td>91</td>\n",
       "      <td>90</td>\n",
       "    </tr>\n",
       "    <tr>\n",
       "      <th>1</th>\n",
       "      <td>Two or more</td>\n",
       "      <td>7</td>\n",
       "      <td>9</td>\n",
       "      <td>10</td>\n",
       "    </tr>\n",
       "    <tr>\n",
       "      <th>2</th>\n",
       "      <td>Victim-offender relationship</td>\n",
       "      <td>1994 to 1998</td>\n",
       "      <td>1999 to 2004</td>\n",
       "      <td>2005 to 2010</td>\n",
       "    </tr>\n",
       "    <tr>\n",
       "      <th>3</th>\n",
       "      <td>Stranger</td>\n",
       "      <td>21</td>\n",
       "      <td>25</td>\n",
       "      <td>22</td>\n",
       "    </tr>\n",
       "    <tr>\n",
       "      <th>4</th>\n",
       "      <td>Nonstranger</td>\n",
       "      <td>79</td>\n",
       "      <td>75</td>\n",
       "      <td>78</td>\n",
       "    </tr>\n",
       "    <tr>\n",
       "      <th>5</th>\n",
       "      <td>Nonstranger relationship</td>\n",
       "      <td>1994 to 1998</td>\n",
       "      <td>1999 to 2004</td>\n",
       "      <td>2005 to 2010</td>\n",
       "    </tr>\n",
       "    <tr>\n",
       "      <th>6</th>\n",
       "      <td>Intimate partner</td>\n",
       "      <td>28</td>\n",
       "      <td>30</td>\n",
       "      <td>34</td>\n",
       "    </tr>\n",
       "    <tr>\n",
       "      <th>7</th>\n",
       "      <td>Relative</td>\n",
       "      <td>9</td>\n",
       "      <td>3</td>\n",
       "      <td>6</td>\n",
       "    </tr>\n",
       "    <tr>\n",
       "      <th>8</th>\n",
       "      <td>Well-known/casual acquaintance</td>\n",
       "      <td>42</td>\n",
       "      <td>42</td>\n",
       "      <td>38</td>\n",
       "    </tr>\n",
       "  </tbody>\n",
       "</table>\n",
       "</div>"
      ],
      "text/plain": [
       "              Number of offenders  1994 to 1998  1999 to 2004  2005 to 2010\n",
       "0                             One            93            91            90\n",
       "1                     Two or more             7             9            10\n",
       "2    Victim-offender relationship  1994 to 1998  1999 to 2004  2005 to 2010\n",
       "3                        Stranger            21            25            22\n",
       "4                     Nonstranger            79            75            78\n",
       "5        Nonstranger relationship  1994 to 1998  1999 to 2004  2005 to 2010\n",
       "6                Intimate partner            28            30            34\n",
       "7                        Relative             9             3             6\n",
       "8  Well-known/casual acquaintance            42            42            38"
      ]
     },
     "execution_count": 3,
     "metadata": {},
     "output_type": "execute_result"
    }
   ],
   "source": [
    "perpetrator_relationship_df.head(20)"
   ]
  },
  {
   "cell_type": "code",
   "execution_count": 2,
   "id": "b453bf7c",
   "metadata": {},
   "outputs": [],
   "source": [
    "import matplotlib.pyplot as plt\n",
    "import numpy as np"
   ]
  },
  {
   "cell_type": "code",
   "execution_count": 3,
   "id": "b3dc0aa1",
   "metadata": {},
   "outputs": [],
   "source": [
    "x1 = [\"1994-1998\", \"1999-2004\", \"2005-2010\"]\n",
    "y1 = np.array([21, 25, 22])\n",
    "y2 = np.array([28, 30, 34])\n",
    "y3 = np.array([9, 3, 6])\n",
    "y4 = np.array([42, 42, 38])"
   ]
  },
  {
   "cell_type": "code",
   "execution_count": 7,
   "id": "b9481c2d",
   "metadata": {},
   "outputs": [
    {
     "data": {
      "image/png": "[encoded data removed]",
      "text/plain": [
       "<Figure size 432x288 with 1 Axes>"
      ]
     },
     "metadata": {
      "needs_background": "light"
     },
     "output_type": "display_data"
    }
   ],
   "source": [
    "plt.bar(x1, y1, color='r')\n",
    "plt.bar(x1, y2, bottom=y1, color='b')\n",
    "plt.bar(x1, y3, bottom=y1+y2, color='y')\n",
    "plt.bar(x1, y4, bottom=y1+y2+y3, color='g')\n",
    "plt.xlabel(\"Year\")\n",
    "plt.legend(['Stranger', 'Intimate partner', 'Relative', 'Aquaintance'])\n",
    "plt.legend(['Stranger', 'Intimate partner', 'Relative', 'Aquaintance'], bbox_to_anchor=(1.05, 1), loc='upper left', borderaxespad=0)\n",
    "plt.title(\"Perpetrator and Victim Relationship\")\n",
    "plt.show()"
   ]
  },
  {
   "cell_type": "code",
   "execution_count": null,
   "id": "b2bc97b0",
   "metadata": {},
   "outputs": [],
   "source": []
  },
  {
   "cell_type": "code",
   "execution_count": 17,
   "id": "b1f920fc",
   "metadata": {},
   "outputs": [],
   "source": []
  },
  {
   "cell_type": "code",
   "execution_count": null,
   "id": "24872a18",
   "metadata": {},
   "outputs": [],
   "source": []
  }
 ],
 "metadata": {
  "kernelspec": {
   "display_name": "Python 3 (ipykernel)",
   "language": "python",
   "name": "python3"
  },
  "language_info": {
   "codemirror_mode": {
    "name": "ipython",
    "version": 3
   },
   "file_extension": ".py",
   "mimetype": "text/x-python",
   "name": "python",
   "nbconvert_exporter": "python",
   "pygments_lexer": "ipython3",
   "version": "3.9.12"
  }
 },
 "nbformat": 4,
 "nbformat_minor": 5
}
