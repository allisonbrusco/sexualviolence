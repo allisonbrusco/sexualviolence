{
 "cells": [
  {
   "cell_type": "code",
   "execution_count": 14,
   "id": "e9d65ee8",
   "metadata": {},
   "outputs": [],
   "source": [
    "import pandas as pd\n",
    "import numpy as np \n",
    "import matplotlib.pyplot as plt "
   ]
  },
  {
   "cell_type": "code",
   "execution_count": 19,
   "id": "797872d4",
   "metadata": {},
   "outputs": [],
   "source": [
    "female_reports_to_police_df=pd.read_csv('female-police-reports.csv')"
   ]
  },
  {
   "cell_type": "code",
   "execution_count": 20,
   "id": "232a319f",
   "metadata": {},
   "outputs": [],
   "source": [
    "#edited the formatting of the original .csv file using TextEdit"
   ]
  },
  {
   "cell_type": "code",
   "execution_count": 55,
   "id": "b548a44a",
   "metadata": {},
   "outputs": [
    {
     "data": {
      "text/html": [
       "<div>\n",
       "<style scoped>\n",
       "    .dataframe tbody tr th:only-of-type {\n",
       "        vertical-align: middle;\n",
       "    }\n",
       "\n",
       "    .dataframe tbody tr th {\n",
       "        vertical-align: top;\n",
       "    }\n",
       "\n",
       "    .dataframe thead th {\n",
       "        text-align: right;\n",
       "    }\n",
       "</style>\n",
       "<table border=\"1\" class=\"dataframe\">\n",
       "  <thead>\n",
       "    <tr style=\"text-align: right;\">\n",
       "      <th></th>\n",
       "      <th>Year</th>\n",
       "      <th>Percent</th>\n",
       "      <th>Standard error</th>\n",
       "    </tr>\n",
       "  </thead>\n",
       "  <tbody>\n",
       "    <tr>\n",
       "      <th>0</th>\n",
       "      <td>1995</td>\n",
       "      <td>28.2</td>\n",
       "      <td>2.3</td>\n",
       "    </tr>\n",
       "    <tr>\n",
       "      <th>1</th>\n",
       "      <td>1996</td>\n",
       "      <td>28.6</td>\n",
       "      <td>2.6</td>\n",
       "    </tr>\n",
       "    <tr>\n",
       "      <th>2</th>\n",
       "      <td>1997</td>\n",
       "      <td>28.3</td>\n",
       "      <td>2.7</td>\n",
       "    </tr>\n",
       "    <tr>\n",
       "      <th>3</th>\n",
       "      <td>1998</td>\n",
       "      <td>26.9</td>\n",
       "      <td>2.8</td>\n",
       "    </tr>\n",
       "    <tr>\n",
       "      <th>4</th>\n",
       "      <td>1999</td>\n",
       "      <td>28.5</td>\n",
       "      <td>2.7</td>\n",
       "    </tr>\n",
       "    <tr>\n",
       "      <th>5</th>\n",
       "      <td>2000</td>\n",
       "      <td>32.5</td>\n",
       "      <td>2.7</td>\n",
       "    </tr>\n",
       "    <tr>\n",
       "      <th>6</th>\n",
       "      <td>2001</td>\n",
       "      <td>37.8</td>\n",
       "      <td>3.3</td>\n",
       "    </tr>\n",
       "    <tr>\n",
       "      <th>7</th>\n",
       "      <td>2002</td>\n",
       "      <td>45.5</td>\n",
       "      <td>3.5</td>\n",
       "    </tr>\n",
       "    <tr>\n",
       "      <th>8</th>\n",
       "      <td>2003</td>\n",
       "      <td>58.9</td>\n",
       "      <td>3.6</td>\n",
       "    </tr>\n",
       "    <tr>\n",
       "      <th>9</th>\n",
       "      <td>2004</td>\n",
       "      <td>45.6</td>\n",
       "      <td>4.1</td>\n",
       "    </tr>\n",
       "    <tr>\n",
       "      <th>10</th>\n",
       "      <td>2005</td>\n",
       "      <td>32.3</td>\n",
       "      <td>4.9</td>\n",
       "    </tr>\n",
       "    <tr>\n",
       "      <th>11</th>\n",
       "      <td>2006</td>\n",
       "      <td>36.1</td>\n",
       "      <td>4.3</td>\n",
       "    </tr>\n",
       "    <tr>\n",
       "      <th>12</th>\n",
       "      <td>2007</td>\n",
       "      <td>37.5</td>\n",
       "      <td>4.4</td>\n",
       "    </tr>\n",
       "    <tr>\n",
       "      <th>13</th>\n",
       "      <td>2008</td>\n",
       "      <td>40.9</td>\n",
       "      <td>4.5</td>\n",
       "    </tr>\n",
       "    <tr>\n",
       "      <th>14</th>\n",
       "      <td>2009</td>\n",
       "      <td>31.6</td>\n",
       "      <td>4.1</td>\n",
       "    </tr>\n",
       "    <tr>\n",
       "      <th>15</th>\n",
       "      <td>2010</td>\n",
       "      <td>32.1</td>\n",
       "      <td>4.2</td>\n",
       "    </tr>\n",
       "  </tbody>\n",
       "</table>\n",
       "</div>"
      ],
      "text/plain": [
       "    Year  Percent  Standard error\n",
       "0   1995     28.2             2.3\n",
       "1   1996     28.6             2.6\n",
       "2   1997     28.3             2.7\n",
       "3   1998     26.9             2.8\n",
       "4   1999     28.5             2.7\n",
       "5   2000     32.5             2.7\n",
       "6   2001     37.8             3.3\n",
       "7   2002     45.5             3.5\n",
       "8   2003     58.9             3.6\n",
       "9   2004     45.6             4.1\n",
       "10  2005     32.3             4.9\n",
       "11  2006     36.1             4.3\n",
       "12  2007     37.5             4.4\n",
       "13  2008     40.9             4.5\n",
       "14  2009     31.6             4.1\n",
       "15  2010     32.1             4.2"
      ]
     },
     "execution_count": 55,
     "metadata": {},
     "output_type": "execute_result"
    }
   ],
   "source": [
    "female_reports_to_police_df.head(17)"
   ]
  },
  {
   "cell_type": "code",
   "execution_count": 26,
   "id": "33cd312f",
   "metadata": {},
   "outputs": [],
   "source": [
    "reported_vs_not_reported = {'Year' : [1995, 1996, 1997, 1998, 1999, 2000, 2001, 2002, 2003, 2004, 2005, 2006, 2007, 2008, 2009, 2010],\n",
    "'Reported' : [28.2, 28.6, 28.3, 26.9, 28.5, 32.5, 37.8, 45.5, 58.9, 45.6, 32.3, 36.1, 37.5, 40.9, 31.6, 32.1],\n",
    "'Not_reported' : [71.8, 71.4, 71.7, 73.1, 71.5, 67.5, 62.2, 54.5, 41.1, 54.4, 67.7, 63.9, 62.5, 59.1, 68.4, 67.9]}"
   ]
  },
  {
   "cell_type": "code",
   "execution_count": 27,
   "id": "9db2791d",
   "metadata": {},
   "outputs": [],
   "source": [
    "reported_vs_not_reported_df = pd.DataFrame(reported_vs_not_reported)"
   ]
  },
  {
   "cell_type": "code",
   "execution_count": 28,
   "id": "9b2f4a5c",
   "metadata": {},
   "outputs": [],
   "source": [
    "x_axis = np.arange(len(Year))"
   ]
  },
  {
   "cell_type": "code",
   "execution_count": 55,
   "id": "fe84a1bc",
   "metadata": {},
   "outputs": [
    {
     "data": {
      "image/png": "[encoded data removed]",
      "text/plain": [
       "<Figure size 1080x360 with 1 Axes>"
      ]
     },
     "metadata": {},
     "output_type": "display_data"
    }
   ],
   "source": [
    "fig = plt.figure(figsize=(15, 5))\n",
    "ax = fig.add_subplot()\n",
    "\n",
    "plt.style.use('dark_background')\n",
    "\n",
    "plt.bar(x_axis -0.2, Reported, width=0.4, label = 'Did Report', color= 'blue')\n",
    "plt.bar(x_axis +0.2, Not_reported, width=0.4, label = 'Did Not Report', color= 'orange')\n",
    "plt.xticks(x_axis, Year)\n",
    "plt.xlabel('Years')\n",
    "plt.ylabel('Percent')\n",
    "plt.title('Rates of Female Victims that Reported to Police, 1995-2010')\n",
    "plt.tick_params(axis='x', which='major', labelsize=10)\n",
    "plt.legend()\n",
    "plt.legend(bbox_to_anchor=(1.04,1), loc=\"upper left\")\n",
    "plt.show()"
   ]
  },
  {
   "cell_type": "markdown",
   "id": "859ce908",
   "metadata": {},
   "source": [
    "This graph shows the relationship between female victims who reported their victimization to the police versus those who didn't from 1995-2010. The percentage of those who did not report is commonly significantly higher than the percentage that did report, with the average rate of reporting being 35.7% and the average rate of not reporting being 64.3%."
   ]
  },
  {
   "cell_type": "code",
   "execution_count": 23,
   "id": "26e01389",
   "metadata": {},
   "outputs": [
    {
     "name": "stdout",
     "output_type": "stream",
     "text": [
      "\n",
      "Multiple stats for values in column A:\n",
      "count    16.000000\n",
      "mean     35.706250\n",
      "std       8.600036\n",
      "min      26.900000\n",
      "25%      28.575000\n",
      "50%      32.400000\n",
      "75%      38.575000\n",
      "max      58.900000\n",
      "Name: Percent, dtype: float64\n"
     ]
    }
   ],
   "source": [
    "print('\\nMultiple stats for values in column A:')\n",
    "print(female_reports_to_police_df['Percent'].describe())"
   ]
  },
  {
   "cell_type": "code",
   "execution_count": 41,
   "id": "07d8ce84",
   "metadata": {},
   "outputs": [],
   "source": [
    "import matplotlib.pyplot as plt\n",
    "import numpy as np"
   ]
  },
  {
   "cell_type": "code",
   "execution_count": 54,
   "id": "61244cbc",
   "metadata": {},
   "outputs": [
    {
     "data": {
      "text/plain": [
       "(0.0, 60.5)"
      ]
     },
     "execution_count": 54,
     "metadata": {},
     "output_type": "execute_result"
    },
    {
     "data": {
      "image/png": "[encoded data removed]",
      "text/plain": [
       "<Figure size 432x288 with 1 Axes>"
      ]
     },
     "metadata": {
      "needs_background": "light"
     },
     "output_type": "display_data"
    }
   ],
   "source": [
    "female_reports_to_police_df.plot.line(y='Percent', x='Year', title='Percentage of female victims that reported to the police, 1995-2010')\n",
    "plt.ylim(ymin=0)"
   ]
  },
  {
   "cell_type": "code",
   "execution_count": 65,
   "id": "5fc8673a",
   "metadata": {},
   "outputs": [
    {
     "name": "stdout",
     "output_type": "stream",
     "text": [
      "[1.41, 1.144, 1.132, 1.0222, 1.14, 1.2675, 1.2473999999999998, 1.4105, 1.4725, 1.0032, 0.5814, 0.7942, 0.8624999999999999, 0.8589, 0.7268, 0.6741]\n"
     ]
    }
   ],
   "source": [
    "x=[1995, 1996, 1997, 1998, 1999, 2000, 2001, 2001, 2003, 2004, 2005, 2006, 2007, 2008, 2009, 2010]\n",
    "rates= [5, 4, 4, 3.8, 4, 3.9, 3.3, 3.1, 2.5, 2.2, 1.8, 2.2, 2.3, 2.1, 2.3, 2.1]\n",
    "reports = [.282, .286, .283, .269, .285, .325, .378, .455, .589, .456, .323, .361, .375, .409, .316, .321]\n",
    "product = [x*y for x,y in zip(rates,reports)]\n",
    "print(product)"
   ]
  },
  {
   "cell_type": "code",
   "execution_count": 67,
   "id": "41e9b7be",
   "metadata": {},
   "outputs": [],
   "source": [
    "reports_v2=[1.41, 1.144, 1.132, 1.0222, 1.14, 1.2675, 1.2473999999999998, 1.4105, 1.4725, 1.0032, 0.5814, 0.7942, 0.8624999999999999, 0.8589, 0.7268, 0.6741]"
   ]
  },
  {
   "cell_type": "code",
   "execution_count": 72,
   "id": "c73d8b04",
   "metadata": {},
   "outputs": [
    {
     "data": {
      "image/png": "[encoded data removed]",
      "text/plain": [
       "<Figure size 432x288 with 1 Axes>"
      ]
     },
     "metadata": {
      "needs_background": "light"
     },
     "output_type": "display_data"
    }
   ],
   "source": [
    "plt.plot(x, rates, label = \"Overall Rates\", color = 'green')\n",
    "plt.plot(x, reports_v2, label = \"Reported Rates\", color = 'orange')\n",
    "plt.title('Rates of Sexual Violence vs Rates of Reporting to Police, 1995-2010')\n",
    "plt.xlabel('Year')\n",
    "plt.ylabel('Rate')\n",
    "plt.legend()\n",
    "plt.show()"
   ]
  },
  {
   "cell_type": "code",
   "execution_count": null,
   "id": "6cdda333",
   "metadata": {},
   "outputs": [],
   "source": [
    "#1998: Monica Lewinksy scandal, percent change?\n",
    "#1999: \n",
    "#2003: 2003 United States Air Force Academy sexual assault scandal\n",
    "#2005: \n",
    "#2008: Financial crisis"
   ]
  }
 ],
 "metadata": {
  "kernelspec": {
   "display_name": "Python 3 (ipykernel)",
   "language": "python",
   "name": "python3"
  },
  "language_info": {
   "codemirror_mode": {
    "name": "ipython",
    "version": 3
   },
   "file_extension": ".py",
   "mimetype": "text/x-python",
   "name": "python",
   "nbconvert_exporter": "python",
   "pygments_lexer": "ipython3",
   "version": "3.9.12"
  }
 },
 "nbformat": 4,
 "nbformat_minor": 5
}
