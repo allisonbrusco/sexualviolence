{
 "cells": [
  {
   "cell_type": "code",
   "execution_count": 4,
   "id": "ffc36abb",
   "metadata": {},
   "outputs": [],
   "source": [
    "import pandas as pd"
   ]
  },
  {
   "cell_type": "code",
   "execution_count": 5,
   "id": "b63fedba",
   "metadata": {},
   "outputs": [],
   "source": [
    "female_victims_that_sought_assistance_df=pd.read_csv('vicitm-assistance.csv')"
   ]
  },
  {
   "cell_type": "code",
   "execution_count": null,
   "id": "b20552c1",
   "metadata": {},
   "outputs": [],
   "source": [
    "#edited the formatting of the original .csv file using TextEdit"
   ]
  },
  {
   "cell_type": "code",
   "execution_count": 6,
   "id": "7abf9042",
   "metadata": {},
   "outputs": [
    {
     "data": {
      "text/html": [
       "<div>\n",
       "<style scoped>\n",
       "    .dataframe tbody tr th:only-of-type {\n",
       "        vertical-align: middle;\n",
       "    }\n",
       "\n",
       "    .dataframe tbody tr th {\n",
       "        vertical-align: top;\n",
       "    }\n",
       "\n",
       "    .dataframe thead th {\n",
       "        text-align: right;\n",
       "    }\n",
       "</style>\n",
       "<table border=\"1\" class=\"dataframe\">\n",
       "  <thead>\n",
       "    <tr style=\"text-align: right;\">\n",
       "      <th></th>\n",
       "      <th>Assistance</th>\n",
       "      <th>1994 to 1998</th>\n",
       "      <th>1999 to 2004</th>\n",
       "      <th>2005 to 2010</th>\n",
       "    </tr>\n",
       "  </thead>\n",
       "  <tbody>\n",
       "    <tr>\n",
       "      <th>0</th>\n",
       "      <td>Received assistance</td>\n",
       "      <td>24</td>\n",
       "      <td>28</td>\n",
       "      <td>23</td>\n",
       "    </tr>\n",
       "    <tr>\n",
       "      <th>1</th>\n",
       "      <td>Did not receive assistance</td>\n",
       "      <td>76</td>\n",
       "      <td>72</td>\n",
       "      <td>77</td>\n",
       "    </tr>\n",
       "  </tbody>\n",
       "</table>\n",
       "</div>"
      ],
      "text/plain": [
       "                   Assistance   1994 to 1998  1999 to 2004  2005 to 2010\n",
       "0         Received assistance             24            28            23\n",
       "1  Did not receive assistance             76            72            77"
      ]
     },
     "execution_count": 6,
     "metadata": {},
     "output_type": "execute_result"
    }
   ],
   "source": [
    "female_victims_that_sought_assistance_df.head()"
   ]
  },
  {
   "cell_type": "code",
   "execution_count": 7,
   "id": "a7d3a1da",
   "metadata": {},
   "outputs": [],
   "source": [
    "import numpy as np \n",
    "import matplotlib.pyplot as plt "
   ]
  },
  {
   "cell_type": "code",
   "execution_count": 10,
   "id": "d2508d79",
   "metadata": {},
   "outputs": [],
   "source": [
    "Year= ['1994 to 1998','1999 to 2004','2005 to 2010']\n",
    "Recieved_assistance= [24, 28, 23]\n",
    "Did_not_recieve_assistance = [76, 72, 77]"
   ]
  },
  {
   "cell_type": "code",
   "execution_count": 11,
   "id": "5362ce31",
   "metadata": {},
   "outputs": [],
   "source": [
    "x_axis = np.arange(len(Year))"
   ]
  },
  {
   "cell_type": "code",
   "execution_count": 20,
   "id": "5619e3a2",
   "metadata": {},
   "outputs": [
    {
     "data": {
      "image/png": "[encoded data removed]",
      "text/plain": [
       "<Figure size 432x288 with 1 Axes>"
      ]
     },
     "metadata": {
      "needs_background": "light"
     },
     "output_type": "display_data"
    }
   ],
   "source": [
    "plt.bar(x_axis -0.2, Recieved_assistance, width=0.4, label = 'Recieved assitance', color= 'blue')\n",
    "plt.bar(x_axis +0.2, Did_not_recieve_assistance, width=0.4, label = 'Did not recieve assistance', color= 'orange')\n",
    "\n",
    "plt.xticks(x_axis, Year)\n",
    "plt.legend()\n",
    "plt.show()"
   ]
  },
  {
   "cell_type": "code",
   "execution_count": null,
   "id": "ee7eafc5",
   "metadata": {},
   "outputs": [],
   "source": []
  },
  {
   "cell_type": "code",
   "execution_count": null,
   "id": "2cf6d48a",
   "metadata": {},
   "outputs": [],
   "source": []
  },
  {
   "cell_type": "code",
   "execution_count": null,
   "id": "5990d99e",
   "metadata": {},
   "outputs": [],
   "source": []
  },
  {
   "cell_type": "code",
   "execution_count": null,
   "id": "6725929a",
   "metadata": {},
   "outputs": [],
   "source": []
  }
 ],
 "metadata": {
  "kernelspec": {
   "display_name": "Python 3 (ipykernel)",
   "language": "python",
   "name": "python3"
  },
  "language_info": {
   "codemirror_mode": {
    "name": "ipython",
    "version": 3
   },
   "file_extension": ".py",
   "mimetype": "text/x-python",
   "name": "python",
   "nbconvert_exporter": "python",
   "pygments_lexer": "ipython3",
   "version": "3.9.12"
  }
 },
 "nbformat": 4,
 "nbformat_minor": 5
}
