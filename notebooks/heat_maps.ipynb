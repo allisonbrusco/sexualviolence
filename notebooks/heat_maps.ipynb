{
 "cells": [
  {
   "cell_type": "markdown",
   "id": "64497649",
   "metadata": {},
   "source": [
    "FIRST TRY"
   ]
  },
  {
   "cell_type": "code",
   "execution_count": 105,
   "id": "ff658732",
   "metadata": {},
   "outputs": [],
   "source": [
    "import pandas as pd\n",
    "import numpy as np\n",
    "import matplotlib as plt"
   ]
  },
  {
   "cell_type": "code",
   "execution_count": 106,
   "id": "a14b3c24",
   "metadata": {},
   "outputs": [],
   "source": [
    "import geopandas as gpd"
   ]
  },
  {
   "cell_type": "code",
   "execution_count": 107,
   "id": "96ec5e6d",
   "metadata": {},
   "outputs": [],
   "source": [
    "male_perpetrators_per_100k_people_2010 = {'STNAME' : ['Alabama', 'Alaska', 'Arizona', 'Arkansas', 'California', 'Colorado', 'Connecticut', 'Delaware', 'District of Colombia', 'Georgia', 'Hawaii', 'Idaho', 'Illinois', 'Indiana', 'Iowa', 'Kansas', 'Kentucky', 'Louisiana', 'Maine', 'Maryland', 'Massachusetts', 'Michigan', 'Minnesota', 'Mississippi', 'Missouri', 'Montana', 'Nebraska', 'Nevada', 'New Hampshire', 'New Jersey', 'New Mexico', 'New York', 'North Carolina', 'North Dakota', 'Ohio', 'Oklahoma', 'Oregon', 'Pennsylvania', 'Rhode Island', 'South Carolina', 'South Dakota', 'Tennessee', 'Texas', 'Utah', 'Vermont', 'Virginia', 'Washington', 'West Virginia', 'Wyoming'],\n",
    "                                    'Perpetrators' : [27, 108, 55, 29, 72, 54, 48, 1, 54, 84, 62, 52, 17, 41, 21, 35, 29, 52, 53, 33, 59, 35, 77, 41, 82, 22, 44, 38, 35, 38, 31, 44, 77, 110, 23, 46, 74, 58, 32, 39, 25, 43, 46, 76, 41, 31, 23, 42, 61]}"
   ]
  },
  {
   "cell_type": "code",
   "execution_count": 108,
   "id": "4e57249a",
   "metadata": {},
   "outputs": [],
   "source": [
    "df_2010 = pd.DataFrame(male_perpetrators_per_100k_people)"
   ]
  },
  {
   "cell_type": "code",
   "execution_count": 109,
   "id": "53c03698",
   "metadata": {},
   "outputs": [],
   "source": [
    "SHAPEFILE = 's_22mr22.shp'"
   ]
  },
  {
   "cell_type": "code",
   "execution_count": 110,
   "id": "1e26994c",
   "metadata": {},
   "outputs": [
    {
     "name": "stderr",
     "output_type": "stream",
     "text": [
      "/Users/allisonbrusco/opt/anaconda3/envs/exl_project/lib/python3.8/site-packages/geopandas/array.py:85: ShapelyDeprecationWarning: __len__ for multi-part geometries is deprecated and will be removed in Shapely 2.0. Check the length of the `geoms` property instead to get the  number of parts of a multi-part geometry.\n",
      "  aout[:] = out\n"
     ]
    }
   ],
   "source": [
    "geo_df = gpd.read_file(SHAPEFILE)[['geometry']]"
   ]
  },
  {
   "cell_type": "code",
   "execution_count": 111,
   "id": "3f414f7f",
   "metadata": {},
   "outputs": [
    {
     "data": {
      "text/html": [
       "<div>\n",
       "<style scoped>\n",
       "    .dataframe tbody tr th:only-of-type {\n",
       "        vertical-align: middle;\n",
       "    }\n",
       "\n",
       "    .dataframe tbody tr th {\n",
       "        vertical-align: top;\n",
       "    }\n",
       "\n",
       "    .dataframe thead th {\n",
       "        text-align: right;\n",
       "    }\n",
       "</style>\n",
       "<table border=\"1\" class=\"dataframe\">\n",
       "  <thead>\n",
       "    <tr style=\"text-align: right;\">\n",
       "      <th></th>\n",
       "      <th>geometry</th>\n",
       "    </tr>\n",
       "  </thead>\n",
       "  <tbody>\n",
       "    <tr>\n",
       "      <th>0</th>\n",
       "      <td>MULTIPOLYGON (((-179.10754 51.30120, -179.1054...</td>\n",
       "    </tr>\n",
       "    <tr>\n",
       "      <th>1</th>\n",
       "      <td>MULTIPOLYGON (((-88.11011 30.25891, -88.10638 ...</td>\n",
       "    </tr>\n",
       "    <tr>\n",
       "      <th>2</th>\n",
       "      <td>POLYGON ((-91.62986 36.49921, -91.62849 36.499...</td>\n",
       "    </tr>\n",
       "  </tbody>\n",
       "</table>\n",
       "</div>"
      ],
      "text/plain": [
       "                                            geometry\n",
       "0  MULTIPOLYGON (((-179.10754 51.30120, -179.1054...\n",
       "1  MULTIPOLYGON (((-88.11011 30.25891, -88.10638 ...\n",
       "2  POLYGON ((-91.62986 36.49921, -91.62849 36.499..."
      ]
     },
     "execution_count": 111,
     "metadata": {},
     "output_type": "execute_result"
    }
   ],
   "source": [
    "geo_df.columns = ['geometry']\n",
    "geo_df.head(3)"
   ]
  },
  {
   "cell_type": "code",
   "execution_count": 112,
   "id": "1eade6f2",
   "metadata": {},
   "outputs": [
    {
     "name": "stderr",
     "output_type": "stream",
     "text": [
      "/Users/allisonbrusco/opt/anaconda3/envs/exl_project/lib/python3.8/site-packages/geopandas/plotting.py:38: ShapelyDeprecationWarning: Iteration over multi-part geometries is deprecated and will be removed in Shapely 2.0. Use the `geoms` property to access the constituent parts of a multi-part geometry.\n",
      "  for poly in geom:\n",
      "/Users/allisonbrusco/opt/anaconda3/envs/exl_project/lib/python3.8/site-packages/descartes/patch.py:62: ShapelyDeprecationWarning: The array interface is deprecated and will no longer work in Shapely 2.0. Convert the '.coords' to a numpy array instead.\n",
      "  vertices = concatenate([\n",
      "/Users/allisonbrusco/opt/anaconda3/envs/exl_project/lib/python3.8/site-packages/descartes/patch.py:64: ShapelyDeprecationWarning: The array interface is deprecated and will no longer work in Shapely 2.0. Convert the '.coords' to a numpy array instead.\n",
      "  [asarray(r)[:, :2] for r in t.interiors])\n"
     ]
    },
    {
     "data": {
      "text/plain": [
       "<AxesSubplot:>"
      ]
     },
     "execution_count": 112,
     "metadata": {},
     "output_type": "execute_result"
    },
    {
     "data": {
      "image/png": "[encoded data removed]",
      "text/plain": [
       "<Figure size 720x720 with 1 Axes>"
      ]
     },
     "metadata": {
      "needs_background": "light"
     },
     "output_type": "display_data"
    }
   ],
   "source": [
    "geo_df.plot(figsize=(10,10), edgecolor='white', linewidth=1, color='lightblue')"
   ]
  },
  {
   "cell_type": "markdown",
   "id": "bf94281e",
   "metadata": {},
   "source": [
    "SECOND TRY"
   ]
  },
  {
   "cell_type": "code",
   "execution_count": 113,
   "id": "5a60f737",
   "metadata": {},
   "outputs": [],
   "source": [
    "import geopandas as gpd\n",
    "import pandas as pd\n",
    "import matplotlib.pyplot as plt"
   ]
  },
  {
   "cell_type": "code",
   "execution_count": 114,
   "id": "d199eedf",
   "metadata": {},
   "outputs": [
    {
     "name": "stderr",
     "output_type": "stream",
     "text": [
      "/Users/allisonbrusco/opt/anaconda3/envs/exl_project/lib/python3.8/site-packages/geopandas/array.py:85: ShapelyDeprecationWarning: __len__ for multi-part geometries is deprecated and will be removed in Shapely 2.0. Check the length of the `geoms` property instead to get the  number of parts of a multi-part geometry.\n",
      "  aout[:] = out\n"
     ]
    },
    {
     "data": {
      "text/html": [
       "<div>\n",
       "<style scoped>\n",
       "    .dataframe tbody tr th:only-of-type {\n",
       "        vertical-align: middle;\n",
       "    }\n",
       "\n",
       "    .dataframe tbody tr th {\n",
       "        vertical-align: top;\n",
       "    }\n",
       "\n",
       "    .dataframe thead th {\n",
       "        text-align: right;\n",
       "    }\n",
       "</style>\n",
       "<table border=\"1\" class=\"dataframe\">\n",
       "  <thead>\n",
       "    <tr style=\"text-align: right;\">\n",
       "      <th></th>\n",
       "      <th>pop_est</th>\n",
       "      <th>continent</th>\n",
       "      <th>name</th>\n",
       "      <th>iso_a3</th>\n",
       "      <th>gdp_md_est</th>\n",
       "      <th>geometry</th>\n",
       "    </tr>\n",
       "  </thead>\n",
       "  <tbody>\n",
       "    <tr>\n",
       "      <th>0</th>\n",
       "      <td>920938</td>\n",
       "      <td>Oceania</td>\n",
       "      <td>Fiji</td>\n",
       "      <td>FJI</td>\n",
       "      <td>8374.0</td>\n",
       "      <td>MULTIPOLYGON (((180.00000 -16.06713, 180.00000...</td>\n",
       "    </tr>\n",
       "    <tr>\n",
       "      <th>1</th>\n",
       "      <td>53950935</td>\n",
       "      <td>Africa</td>\n",
       "      <td>Tanzania</td>\n",
       "      <td>TZA</td>\n",
       "      <td>150600.0</td>\n",
       "      <td>POLYGON ((33.90371 -0.95000, 34.07262 -1.05982...</td>\n",
       "    </tr>\n",
       "    <tr>\n",
       "      <th>2</th>\n",
       "      <td>603253</td>\n",
       "      <td>Africa</td>\n",
       "      <td>W. Sahara</td>\n",
       "      <td>ESH</td>\n",
       "      <td>906.5</td>\n",
       "      <td>POLYGON ((-8.66559 27.65643, -8.66512 27.58948...</td>\n",
       "    </tr>\n",
       "    <tr>\n",
       "      <th>3</th>\n",
       "      <td>35623680</td>\n",
       "      <td>North America</td>\n",
       "      <td>Canada</td>\n",
       "      <td>CAN</td>\n",
       "      <td>1674000.0</td>\n",
       "      <td>MULTIPOLYGON (((-122.84000 49.00000, -122.9742...</td>\n",
       "    </tr>\n",
       "    <tr>\n",
       "      <th>4</th>\n",
       "      <td>326625791</td>\n",
       "      <td>North America</td>\n",
       "      <td>United States of America</td>\n",
       "      <td>USA</td>\n",
       "      <td>18560000.0</td>\n",
       "      <td>MULTIPOLYGON (((-122.84000 49.00000, -120.0000...</td>\n",
       "    </tr>\n",
       "  </tbody>\n",
       "</table>\n",
       "</div>"
      ],
      "text/plain": [
       "     pop_est      continent                      name iso_a3  gdp_md_est  \\\n",
       "0     920938        Oceania                      Fiji    FJI      8374.0   \n",
       "1   53950935         Africa                  Tanzania    TZA    150600.0   \n",
       "2     603253         Africa                 W. Sahara    ESH       906.5   \n",
       "3   35623680  North America                    Canada    CAN   1674000.0   \n",
       "4  326625791  North America  United States of America    USA  18560000.0   \n",
       "\n",
       "                                            geometry  \n",
       "0  MULTIPOLYGON (((180.00000 -16.06713, 180.00000...  \n",
       "1  POLYGON ((33.90371 -0.95000, 34.07262 -1.05982...  \n",
       "2  POLYGON ((-8.66559 27.65643, -8.66512 27.58948...  \n",
       "3  MULTIPOLYGON (((-122.84000 49.00000, -122.9742...  \n",
       "4  MULTIPOLYGON (((-122.84000 49.00000, -120.0000...  "
      ]
     },
     "execution_count": 114,
     "metadata": {},
     "output_type": "execute_result"
    }
   ],
   "source": [
    "world = gpd.read_file(gpd.datasets.get_path('naturalearth_lowres'))\n",
    "world.head()"
   ]
  },
  {
   "cell_type": "code",
   "execution_count": 115,
   "id": "7cb2c98c",
   "metadata": {},
   "outputs": [
    {
     "data": {
      "text/html": [
       "<div>\n",
       "<style scoped>\n",
       "    .dataframe tbody tr th:only-of-type {\n",
       "        vertical-align: middle;\n",
       "    }\n",
       "\n",
       "    .dataframe tbody tr th {\n",
       "        vertical-align: top;\n",
       "    }\n",
       "\n",
       "    .dataframe thead th {\n",
       "        text-align: right;\n",
       "    }\n",
       "</style>\n",
       "<table border=\"1\" class=\"dataframe\">\n",
       "  <thead>\n",
       "    <tr style=\"text-align: right;\">\n",
       "      <th></th>\n",
       "      <th>state</th>\n",
       "      <th>population</th>\n",
       "      <th>gdp</th>\n",
       "      <th>geometry</th>\n",
       "    </tr>\n",
       "  </thead>\n",
       "  <tbody>\n",
       "    <tr>\n",
       "      <th>0</th>\n",
       "      <td>Minnesota</td>\n",
       "      <td>5303925</td>\n",
       "      <td>379388000000</td>\n",
       "      <td>POLYGON ((-89.59941 48.01027, -89.48888 48.013...</td>\n",
       "    </tr>\n",
       "    <tr>\n",
       "      <th>1</th>\n",
       "      <td>Montana</td>\n",
       "      <td>989415</td>\n",
       "      <td>51934000000</td>\n",
       "      <td>POLYGON ((-111.19419 44.56116, -111.29155 44.7...</td>\n",
       "    </tr>\n",
       "    <tr>\n",
       "      <th>2</th>\n",
       "      <td>North Dakota</td>\n",
       "      <td>672591</td>\n",
       "      <td>54044000000</td>\n",
       "      <td>POLYGON ((-96.60136 46.35136, -96.53891 46.199...</td>\n",
       "    </tr>\n",
       "    <tr>\n",
       "      <th>3</th>\n",
       "      <td>Idaho</td>\n",
       "      <td>1567582</td>\n",
       "      <td>85552000000</td>\n",
       "      <td>POLYGON ((-111.04973 44.48816, -111.05025 42.0...</td>\n",
       "    </tr>\n",
       "    <tr>\n",
       "      <th>4</th>\n",
       "      <td>Washington</td>\n",
       "      <td>6724540</td>\n",
       "      <td>632013000000</td>\n",
       "      <td>POLYGON ((-116.99807 46.33017, -116.90653 46.1...</td>\n",
       "    </tr>\n",
       "    <tr>\n",
       "      <th>5</th>\n",
       "      <td>Arizona</td>\n",
       "      <td>6392017</td>\n",
       "      <td>378297000000</td>\n",
       "      <td>POLYGON ((-109.04523 36.99991, -109.04367 31.3...</td>\n",
       "    </tr>\n",
       "    <tr>\n",
       "      <th>6</th>\n",
       "      <td>California</td>\n",
       "      <td>37253956</td>\n",
       "      <td>3120386000000</td>\n",
       "      <td>POLYGON ((-114.35490 34.46467, -114.16597 34.2...</td>\n",
       "    </tr>\n",
       "    <tr>\n",
       "      <th>7</th>\n",
       "      <td>Colorado</td>\n",
       "      <td>5029196</td>\n",
       "      <td>394271000000</td>\n",
       "      <td>POLYGON ((-102.05017 40.00082, -102.04012 38.4...</td>\n",
       "    </tr>\n",
       "    <tr>\n",
       "      <th>8</th>\n",
       "      <td>Nevada</td>\n",
       "      <td>2700551</td>\n",
       "      <td>175509000000</td>\n",
       "      <td>POLYGON ((-114.03053 36.99410, -114.02363 36.1...</td>\n",
       "    </tr>\n",
       "    <tr>\n",
       "      <th>9</th>\n",
       "      <td>New Mexico</td>\n",
       "      <td>2059179</td>\n",
       "      <td>100777000000</td>\n",
       "      <td>POLYGON ((-103.00161 33.87995, -103.00161 31.9...</td>\n",
       "    </tr>\n",
       "    <tr>\n",
       "      <th>10</th>\n",
       "      <td>Oregon</td>\n",
       "      <td>3831074</td>\n",
       "      <td>253849000000</td>\n",
       "      <td>POLYGON ((-117.02825 42.00002, -117.02825 41.9...</td>\n",
       "    </tr>\n",
       "    <tr>\n",
       "      <th>11</th>\n",
       "      <td>Utah</td>\n",
       "      <td>2763885</td>\n",
       "      <td>198630000000</td>\n",
       "      <td>POLYGON ((-109.05318 41.00199, -109.04523 36.9...</td>\n",
       "    </tr>\n",
       "    <tr>\n",
       "      <th>12</th>\n",
       "      <td>Wyoming</td>\n",
       "      <td>563626</td>\n",
       "      <td>36000000000</td>\n",
       "      <td>POLYGON ((-111.06719 44.54160, -111.07141 45.0...</td>\n",
       "    </tr>\n",
       "    <tr>\n",
       "      <th>13</th>\n",
       "      <td>Arkansas</td>\n",
       "      <td>2915918</td>\n",
       "      <td>130709000000</td>\n",
       "      <td>POLYGON ((-89.66292 36.02307, -89.67351 35.940...</td>\n",
       "    </tr>\n",
       "    <tr>\n",
       "      <th>14</th>\n",
       "      <td>Iowa</td>\n",
       "      <td>3046355</td>\n",
       "      <td>195353000000</td>\n",
       "      <td>POLYGON ((-90.15664 42.10374, -90.21007 41.834...</td>\n",
       "    </tr>\n",
       "    <tr>\n",
       "      <th>15</th>\n",
       "      <td>Kansas</td>\n",
       "      <td>2853118</td>\n",
       "      <td>175465000000</td>\n",
       "      <td>POLYGON ((-94.60481 39.13986, -94.61538 38.068...</td>\n",
       "    </tr>\n",
       "    <tr>\n",
       "      <th>16</th>\n",
       "      <td>Missouri</td>\n",
       "      <td>5988927</td>\n",
       "      <td>325841000000</td>\n",
       "      <td>POLYGON ((-94.61750 36.99991, -94.62280 36.999...</td>\n",
       "    </tr>\n",
       "    <tr>\n",
       "      <th>17</th>\n",
       "      <td>Nebraska</td>\n",
       "      <td>1826341</td>\n",
       "      <td>129761000000</td>\n",
       "      <td>POLYGON ((-95.45254 40.21514, -95.32288 40.001...</td>\n",
       "    </tr>\n",
       "    <tr>\n",
       "      <th>18</th>\n",
       "      <td>Oklahoma</td>\n",
       "      <td>3751351</td>\n",
       "      <td>186883000000</td>\n",
       "      <td>POLYGON ((-94.62861 36.54059, -94.43017 35.483...</td>\n",
       "    </tr>\n",
       "    <tr>\n",
       "      <th>19</th>\n",
       "      <td>South Dakota</td>\n",
       "      <td>814180</td>\n",
       "      <td>55243000000</td>\n",
       "      <td>POLYGON ((-96.75427 42.63396, -97.02839 42.717...</td>\n",
       "    </tr>\n",
       "    <tr>\n",
       "      <th>20</th>\n",
       "      <td>Louisiana</td>\n",
       "      <td>4533372</td>\n",
       "      <td>244577000000</td>\n",
       "      <td>POLYGON ((-89.21767 29.29108, -89.40839 29.159...</td>\n",
       "    </tr>\n",
       "    <tr>\n",
       "      <th>21</th>\n",
       "      <td>Texas</td>\n",
       "      <td>25145561</td>\n",
       "      <td>1772132000000</td>\n",
       "      <td>POLYGON ((-93.57824 31.21613, -93.48984 31.079...</td>\n",
       "    </tr>\n",
       "    <tr>\n",
       "      <th>22</th>\n",
       "      <td>Connecticut</td>\n",
       "      <td>3574097</td>\n",
       "      <td>283601000000</td>\n",
       "      <td>POLYGON ((-72.87617 41.22056, -73.64789 40.953...</td>\n",
       "    </tr>\n",
       "    <tr>\n",
       "      <th>23</th>\n",
       "      <td>Massachusetts</td>\n",
       "      <td>6547629</td>\n",
       "      <td>590307000000</td>\n",
       "      <td>POLYGON ((-69.88480 41.92276, -69.96521 41.636...</td>\n",
       "    </tr>\n",
       "    <tr>\n",
       "      <th>24</th>\n",
       "      <td>New Hampshire</td>\n",
       "      <td>1316470</td>\n",
       "      <td>86319000000</td>\n",
       "      <td>POLYGON ((-71.50351 45.00780, -71.50509 45.008...</td>\n",
       "    </tr>\n",
       "    <tr>\n",
       "      <th>25</th>\n",
       "      <td>Rhode Island</td>\n",
       "      <td>1052567</td>\n",
       "      <td>61081000000</td>\n",
       "      <td>POLYGON ((-71.14790 41.64759, -71.12038 41.494...</td>\n",
       "    </tr>\n",
       "    <tr>\n",
       "      <th>26</th>\n",
       "      <td>Vermont</td>\n",
       "      <td>625741</td>\n",
       "      <td>33278000000</td>\n",
       "      <td>POLYGON ((-71.50351 45.00780, -71.62046 44.735...</td>\n",
       "    </tr>\n",
       "    <tr>\n",
       "      <th>27</th>\n",
       "      <td>Alabama</td>\n",
       "      <td>4779736</td>\n",
       "      <td>228062000000</td>\n",
       "      <td>POLYGON ((-85.05442 31.10870, -85.00519 30.990...</td>\n",
       "    </tr>\n",
       "    <tr>\n",
       "      <th>28</th>\n",
       "      <td>Florida</td>\n",
       "      <td>18801310</td>\n",
       "      <td>1111614000000</td>\n",
       "      <td>POLYGON ((-80.05654 26.88000, -80.08801 26.205...</td>\n",
       "    </tr>\n",
       "    <tr>\n",
       "      <th>29</th>\n",
       "      <td>Georgia</td>\n",
       "      <td>9687653</td>\n",
       "      <td>627667000000</td>\n",
       "      <td>POLYGON ((-80.86501 32.03316, -81.33629 31.440...</td>\n",
       "    </tr>\n",
       "    <tr>\n",
       "      <th>30</th>\n",
       "      <td>Mississippi</td>\n",
       "      <td>2967297</td>\n",
       "      <td>115900000000</td>\n",
       "      <td>POLYGON ((-88.16696 34.99967, -88.09552 34.805...</td>\n",
       "    </tr>\n",
       "    <tr>\n",
       "      <th>31</th>\n",
       "      <td>South Carolina</td>\n",
       "      <td>4625364</td>\n",
       "      <td>245473000000</td>\n",
       "      <td>POLYGON ((-78.55411 33.86142, -79.06067 33.493...</td>\n",
       "    </tr>\n",
       "    <tr>\n",
       "      <th>32</th>\n",
       "      <td>Illinois</td>\n",
       "      <td>12830632</td>\n",
       "      <td>875671000000</td>\n",
       "      <td>POLYGON ((-90.64082 42.50536, -89.62005 42.505...</td>\n",
       "    </tr>\n",
       "    <tr>\n",
       "      <th>33</th>\n",
       "      <td>Indiana</td>\n",
       "      <td>6483802</td>\n",
       "      <td>379293000000</td>\n",
       "      <td>POLYGON ((-84.80676 41.67774, -84.80993 40.772...</td>\n",
       "    </tr>\n",
       "    <tr>\n",
       "      <th>34</th>\n",
       "      <td>Kentucky</td>\n",
       "      <td>4339367</td>\n",
       "      <td>213169000000</td>\n",
       "      <td>POLYGON ((-81.97254 37.53595, -82.37259 37.238...</td>\n",
       "    </tr>\n",
       "    <tr>\n",
       "      <th>35</th>\n",
       "      <td>North Carolina</td>\n",
       "      <td>9535483</td>\n",
       "      <td>594126000000</td>\n",
       "      <td>POLYGON ((-75.86808 36.55118, -75.72731 35.550...</td>\n",
       "    </tr>\n",
       "    <tr>\n",
       "      <th>36</th>\n",
       "      <td>Ohio</td>\n",
       "      <td>11536504</td>\n",
       "      <td>683460000000</td>\n",
       "      <td>POLYGON ((-82.21066 38.57948, -82.34083 38.440...</td>\n",
       "    </tr>\n",
       "    <tr>\n",
       "      <th>37</th>\n",
       "      <td>Tennessee</td>\n",
       "      <td>6346105</td>\n",
       "      <td>369063000000</td>\n",
       "      <td>POLYGON ((-81.67938 36.58557, -81.70477 36.460...</td>\n",
       "    </tr>\n",
       "    <tr>\n",
       "      <th>38</th>\n",
       "      <td>Virginia</td>\n",
       "      <td>8001024</td>\n",
       "      <td>557986000000</td>\n",
       "      <td>POLYGON ((-78.34562 39.40550, -77.83498 39.134...</td>\n",
       "    </tr>\n",
       "    <tr>\n",
       "      <th>39</th>\n",
       "      <td>Wisconsin</td>\n",
       "      <td>5686986</td>\n",
       "      <td>344500000000</td>\n",
       "      <td>POLYGON ((-86.48156 45.32318, -86.26460 45.226...</td>\n",
       "    </tr>\n",
       "    <tr>\n",
       "      <th>40</th>\n",
       "      <td>West Virginia</td>\n",
       "      <td>1852994</td>\n",
       "      <td>74511000000</td>\n",
       "      <td>POLYGON ((-77.72280 39.32243, -77.83499 39.134...</td>\n",
       "    </tr>\n",
       "    <tr>\n",
       "      <th>41</th>\n",
       "      <td>Delaware</td>\n",
       "      <td>897934</td>\n",
       "      <td>76468000000</td>\n",
       "      <td>POLYGON ((-75.31987 38.95995, -75.07183 38.782...</td>\n",
       "    </tr>\n",
       "    <tr>\n",
       "      <th>42</th>\n",
       "      <td>District of Columbia</td>\n",
       "      <td>601723</td>\n",
       "      <td>144653000000</td>\n",
       "      <td>POLYGON ((-76.91158 38.87845, -77.04124 38.789...</td>\n",
       "    </tr>\n",
       "    <tr>\n",
       "      <th>43</th>\n",
       "      <td>Maryland</td>\n",
       "      <td>5773552</td>\n",
       "      <td>427616000000</td>\n",
       "      <td>POLYGON ((-75.04838 38.44877, -75.05673 38.404...</td>\n",
       "    </tr>\n",
       "    <tr>\n",
       "      <th>44</th>\n",
       "      <td>New Jersey</td>\n",
       "      <td>8791894</td>\n",
       "      <td>625659000000</td>\n",
       "      <td>POLYGON ((-73.91280 40.96019, -73.95233 40.750...</td>\n",
       "    </tr>\n",
       "    <tr>\n",
       "      <th>45</th>\n",
       "      <td>New York</td>\n",
       "      <td>19378102</td>\n",
       "      <td>1705127000000</td>\n",
       "      <td>POLYGON ((-74.67903 41.35549, -74.84044 41.426...</td>\n",
       "    </tr>\n",
       "    <tr>\n",
       "      <th>46</th>\n",
       "      <td>Pennsylvania</td>\n",
       "      <td>12702379</td>\n",
       "      <td>788500000000</td>\n",
       "      <td>POLYGON ((-74.89175 40.08179, -75.12882 39.949...</td>\n",
       "    </tr>\n",
       "    <tr>\n",
       "      <th>47</th>\n",
       "      <td>Maine</td>\n",
       "      <td>1328361</td>\n",
       "      <td>67129000000</td>\n",
       "      <td>POLYGON ((-67.13734 45.13745, -66.96466 44.809...</td>\n",
       "    </tr>\n",
       "    <tr>\n",
       "      <th>48</th>\n",
       "      <td>Michigan</td>\n",
       "      <td>9883640</td>\n",
       "      <td>524828000000</td>\n",
       "      <td>POLYGON ((-90.39528 46.61168, -90.35559 46.673...</td>\n",
       "    </tr>\n",
       "  </tbody>\n",
       "</table>\n",
       "</div>"
      ],
      "text/plain": [
       "                   state  population            gdp  \\\n",
       "0              Minnesota     5303925   379388000000   \n",
       "1                Montana      989415    51934000000   \n",
       "2           North Dakota      672591    54044000000   \n",
       "3                  Idaho     1567582    85552000000   \n",
       "4             Washington     6724540   632013000000   \n",
       "5                Arizona     6392017   378297000000   \n",
       "6             California    37253956  3120386000000   \n",
       "7               Colorado     5029196   394271000000   \n",
       "8                 Nevada     2700551   175509000000   \n",
       "9             New Mexico     2059179   100777000000   \n",
       "10                Oregon     3831074   253849000000   \n",
       "11                  Utah     2763885   198630000000   \n",
       "12               Wyoming      563626    36000000000   \n",
       "13              Arkansas     2915918   130709000000   \n",
       "14                  Iowa     3046355   195353000000   \n",
       "15                Kansas     2853118   175465000000   \n",
       "16              Missouri     5988927   325841000000   \n",
       "17              Nebraska     1826341   129761000000   \n",
       "18              Oklahoma     3751351   186883000000   \n",
       "19          South Dakota      814180    55243000000   \n",
       "20             Louisiana     4533372   244577000000   \n",
       "21                 Texas    25145561  1772132000000   \n",
       "22           Connecticut     3574097   283601000000   \n",
       "23         Massachusetts     6547629   590307000000   \n",
       "24         New Hampshire     1316470    86319000000   \n",
       "25          Rhode Island     1052567    61081000000   \n",
       "26               Vermont      625741    33278000000   \n",
       "27               Alabama     4779736   228062000000   \n",
       "28               Florida    18801310  1111614000000   \n",
       "29               Georgia     9687653   627667000000   \n",
       "30           Mississippi     2967297   115900000000   \n",
       "31        South Carolina     4625364   245473000000   \n",
       "32              Illinois    12830632   875671000000   \n",
       "33               Indiana     6483802   379293000000   \n",
       "34              Kentucky     4339367   213169000000   \n",
       "35        North Carolina     9535483   594126000000   \n",
       "36                  Ohio    11536504   683460000000   \n",
       "37             Tennessee     6346105   369063000000   \n",
       "38              Virginia     8001024   557986000000   \n",
       "39             Wisconsin     5686986   344500000000   \n",
       "40         West Virginia     1852994    74511000000   \n",
       "41              Delaware      897934    76468000000   \n",
       "42  District of Columbia      601723   144653000000   \n",
       "43              Maryland     5773552   427616000000   \n",
       "44            New Jersey     8791894   625659000000   \n",
       "45              New York    19378102  1705127000000   \n",
       "46          Pennsylvania    12702379   788500000000   \n",
       "47                 Maine     1328361    67129000000   \n",
       "48              Michigan     9883640   524828000000   \n",
       "\n",
       "                                             geometry  \n",
       "0   POLYGON ((-89.59941 48.01027, -89.48888 48.013...  \n",
       "1   POLYGON ((-111.19419 44.56116, -111.29155 44.7...  \n",
       "2   POLYGON ((-96.60136 46.35136, -96.53891 46.199...  \n",
       "3   POLYGON ((-111.04973 44.48816, -111.05025 42.0...  \n",
       "4   POLYGON ((-116.99807 46.33017, -116.90653 46.1...  \n",
       "5   POLYGON ((-109.04523 36.99991, -109.04367 31.3...  \n",
       "6   POLYGON ((-114.35490 34.46467, -114.16597 34.2...  \n",
       "7   POLYGON ((-102.05017 40.00082, -102.04012 38.4...  \n",
       "8   POLYGON ((-114.03053 36.99410, -114.02363 36.1...  \n",
       "9   POLYGON ((-103.00161 33.87995, -103.00161 31.9...  \n",
       "10  POLYGON ((-117.02825 42.00002, -117.02825 41.9...  \n",
       "11  POLYGON ((-109.05318 41.00199, -109.04523 36.9...  \n",
       "12  POLYGON ((-111.06719 44.54160, -111.07141 45.0...  \n",
       "13  POLYGON ((-89.66292 36.02307, -89.67351 35.940...  \n",
       "14  POLYGON ((-90.15664 42.10374, -90.21007 41.834...  \n",
       "15  POLYGON ((-94.60481 39.13986, -94.61538 38.068...  \n",
       "16  POLYGON ((-94.61750 36.99991, -94.62280 36.999...  \n",
       "17  POLYGON ((-95.45254 40.21514, -95.32288 40.001...  \n",
       "18  POLYGON ((-94.62861 36.54059, -94.43017 35.483...  \n",
       "19  POLYGON ((-96.75427 42.63396, -97.02839 42.717...  \n",
       "20  POLYGON ((-89.21767 29.29108, -89.40839 29.159...  \n",
       "21  POLYGON ((-93.57824 31.21613, -93.48984 31.079...  \n",
       "22  POLYGON ((-72.87617 41.22056, -73.64789 40.953...  \n",
       "23  POLYGON ((-69.88480 41.92276, -69.96521 41.636...  \n",
       "24  POLYGON ((-71.50351 45.00780, -71.50509 45.008...  \n",
       "25  POLYGON ((-71.14790 41.64759, -71.12038 41.494...  \n",
       "26  POLYGON ((-71.50351 45.00780, -71.62046 44.735...  \n",
       "27  POLYGON ((-85.05442 31.10870, -85.00519 30.990...  \n",
       "28  POLYGON ((-80.05654 26.88000, -80.08801 26.205...  \n",
       "29  POLYGON ((-80.86501 32.03316, -81.33629 31.440...  \n",
       "30  POLYGON ((-88.16696 34.99967, -88.09552 34.805...  \n",
       "31  POLYGON ((-78.55411 33.86142, -79.06067 33.493...  \n",
       "32  POLYGON ((-90.64082 42.50536, -89.62005 42.505...  \n",
       "33  POLYGON ((-84.80676 41.67774, -84.80993 40.772...  \n",
       "34  POLYGON ((-81.97254 37.53595, -82.37259 37.238...  \n",
       "35  POLYGON ((-75.86808 36.55118, -75.72731 35.550...  \n",
       "36  POLYGON ((-82.21066 38.57948, -82.34083 38.440...  \n",
       "37  POLYGON ((-81.67938 36.58557, -81.70477 36.460...  \n",
       "38  POLYGON ((-78.34562 39.40550, -77.83498 39.134...  \n",
       "39  POLYGON ((-86.48156 45.32318, -86.26460 45.226...  \n",
       "40  POLYGON ((-77.72280 39.32243, -77.83499 39.134...  \n",
       "41  POLYGON ((-75.31987 38.95995, -75.07183 38.782...  \n",
       "42  POLYGON ((-76.91158 38.87845, -77.04124 38.789...  \n",
       "43  POLYGON ((-75.04838 38.44877, -75.05673 38.404...  \n",
       "44  POLYGON ((-73.91280 40.96019, -73.95233 40.750...  \n",
       "45  POLYGON ((-74.67903 41.35549, -74.84044 41.426...  \n",
       "46  POLYGON ((-74.89175 40.08179, -75.12882 39.949...  \n",
       "47  POLYGON ((-67.13734 45.13745, -66.96466 44.809...  \n",
       "48  POLYGON ((-90.39528 46.61168, -90.35559 46.673...  "
      ]
     },
     "execution_count": 115,
     "metadata": {},
     "output_type": "execute_result"
    }
   ],
   "source": [
    "path = 'https://raw.githubusercontent.com/groundhogday321/map-layers/main/us_states.geojson'\n",
    "us_states = gpd.read_file(path)\n",
    "us_states.head(52)"
   ]
  },
  {
   "cell_type": "code",
   "execution_count": 116,
   "id": "9e588c79",
   "metadata": {},
   "outputs": [
    {
     "data": {
      "text/html": [
       "<div>\n",
       "<style scoped>\n",
       "    .dataframe tbody tr th:only-of-type {\n",
       "        vertical-align: middle;\n",
       "    }\n",
       "\n",
       "    .dataframe tbody tr th {\n",
       "        vertical-align: top;\n",
       "    }\n",
       "\n",
       "    .dataframe thead th {\n",
       "        text-align: right;\n",
       "    }\n",
       "</style>\n",
       "<table border=\"1\" class=\"dataframe\">\n",
       "  <thead>\n",
       "    <tr style=\"text-align: right;\">\n",
       "      <th></th>\n",
       "      <th>state</th>\n",
       "      <th>population</th>\n",
       "      <th>gdp</th>\n",
       "      <th>geometry</th>\n",
       "      <th>STNAME</th>\n",
       "      <th>Perpetrators</th>\n",
       "    </tr>\n",
       "  </thead>\n",
       "  <tbody>\n",
       "    <tr>\n",
       "      <th>0</th>\n",
       "      <td>Minnesota</td>\n",
       "      <td>5303925</td>\n",
       "      <td>379388000000</td>\n",
       "      <td>POLYGON ((-89.59941 48.01027, -89.48888 48.013...</td>\n",
       "      <td>Minnesota</td>\n",
       "      <td>77</td>\n",
       "    </tr>\n",
       "    <tr>\n",
       "      <th>1</th>\n",
       "      <td>Montana</td>\n",
       "      <td>989415</td>\n",
       "      <td>51934000000</td>\n",
       "      <td>POLYGON ((-111.19419 44.56116, -111.29155 44.7...</td>\n",
       "      <td>Montana</td>\n",
       "      <td>22</td>\n",
       "    </tr>\n",
       "    <tr>\n",
       "      <th>2</th>\n",
       "      <td>North Dakota</td>\n",
       "      <td>672591</td>\n",
       "      <td>54044000000</td>\n",
       "      <td>POLYGON ((-96.60136 46.35136, -96.53891 46.199...</td>\n",
       "      <td>North Dakota</td>\n",
       "      <td>110</td>\n",
       "    </tr>\n",
       "    <tr>\n",
       "      <th>3</th>\n",
       "      <td>Idaho</td>\n",
       "      <td>1567582</td>\n",
       "      <td>85552000000</td>\n",
       "      <td>POLYGON ((-111.04973 44.48816, -111.05025 42.0...</td>\n",
       "      <td>Idaho</td>\n",
       "      <td>52</td>\n",
       "    </tr>\n",
       "    <tr>\n",
       "      <th>4</th>\n",
       "      <td>Washington</td>\n",
       "      <td>6724540</td>\n",
       "      <td>632013000000</td>\n",
       "      <td>POLYGON ((-116.99807 46.33017, -116.90653 46.1...</td>\n",
       "      <td>Washington</td>\n",
       "      <td>23</td>\n",
       "    </tr>\n",
       "  </tbody>\n",
       "</table>\n",
       "</div>"
      ],
      "text/plain": [
       "          state  population           gdp  \\\n",
       "0     Minnesota     5303925  379388000000   \n",
       "1       Montana      989415   51934000000   \n",
       "2  North Dakota      672591   54044000000   \n",
       "3         Idaho     1567582   85552000000   \n",
       "4    Washington     6724540  632013000000   \n",
       "\n",
       "                                            geometry        STNAME  \\\n",
       "0  POLYGON ((-89.59941 48.01027, -89.48888 48.013...     Minnesota   \n",
       "1  POLYGON ((-111.19419 44.56116, -111.29155 44.7...       Montana   \n",
       "2  POLYGON ((-96.60136 46.35136, -96.53891 46.199...  North Dakota   \n",
       "3  POLYGON ((-111.04973 44.48816, -111.05025 42.0...         Idaho   \n",
       "4  POLYGON ((-116.99807 46.33017, -116.90653 46.1...    Washington   \n",
       "\n",
       "   Perpetrators  \n",
       "0            77  \n",
       "1            22  \n",
       "2           110  \n",
       "3            52  \n",
       "4            23  "
      ]
     },
     "execution_count": 116,
     "metadata": {},
     "output_type": "execute_result"
    }
   ],
   "source": [
    "us_perpetrators_merged = us_states.merge(df_2010, left_on='state', right_on='STNAME')\n",
    "us_perpetrators_merged.head()"
   ]
  },
  {
   "cell_type": "code",
   "execution_count": 117,
   "id": "fae62aa8",
   "metadata": {},
   "outputs": [
    {
     "data": {
      "text/html": [
       "<div>\n",
       "<style scoped>\n",
       "    .dataframe tbody tr th:only-of-type {\n",
       "        vertical-align: middle;\n",
       "    }\n",
       "\n",
       "    .dataframe tbody tr th {\n",
       "        vertical-align: top;\n",
       "    }\n",
       "\n",
       "    .dataframe thead th {\n",
       "        text-align: right;\n",
       "    }\n",
       "</style>\n",
       "<table border=\"1\" class=\"dataframe\">\n",
       "  <thead>\n",
       "    <tr style=\"text-align: right;\">\n",
       "      <th></th>\n",
       "      <th>STNAME</th>\n",
       "      <th>Perpetrators</th>\n",
       "    </tr>\n",
       "  </thead>\n",
       "  <tbody>\n",
       "    <tr>\n",
       "      <th>0</th>\n",
       "      <td>Alabama</td>\n",
       "      <td>27</td>\n",
       "    </tr>\n",
       "    <tr>\n",
       "      <th>1</th>\n",
       "      <td>Alaska</td>\n",
       "      <td>108</td>\n",
       "    </tr>\n",
       "    <tr>\n",
       "      <th>2</th>\n",
       "      <td>Arizona</td>\n",
       "      <td>55</td>\n",
       "    </tr>\n",
       "    <tr>\n",
       "      <th>3</th>\n",
       "      <td>Arkansas</td>\n",
       "      <td>29</td>\n",
       "    </tr>\n",
       "    <tr>\n",
       "      <th>4</th>\n",
       "      <td>California</td>\n",
       "      <td>72</td>\n",
       "    </tr>\n",
       "  </tbody>\n",
       "</table>\n",
       "</div>"
      ],
      "text/plain": [
       "       STNAME  Perpetrators\n",
       "0     Alabama            27\n",
       "1      Alaska           108\n",
       "2     Arizona            55\n",
       "3    Arkansas            29\n",
       "4  California            72"
      ]
     },
     "execution_count": 117,
     "metadata": {},
     "output_type": "execute_result"
    }
   ],
   "source": [
    "perpetrators_gdf = gpd.GeoDataFrame(df)\n",
    "perpetrators_gdf.head()"
   ]
  },
  {
   "cell_type": "code",
   "execution_count": 118,
   "id": "f1c753c8",
   "metadata": {},
   "outputs": [
    {
     "name": "stderr",
     "output_type": "stream",
     "text": [
      "/Users/allisonbrusco/opt/anaconda3/envs/exl_project/lib/python3.8/site-packages/geopandas/plotting.py:38: ShapelyDeprecationWarning: Iteration over multi-part geometries is deprecated and will be removed in Shapely 2.0. Use the `geoms` property to access the constituent parts of a multi-part geometry.\n",
      "  for poly in geom:\n",
      "/Users/allisonbrusco/opt/anaconda3/envs/exl_project/lib/python3.8/site-packages/descartes/patch.py:62: ShapelyDeprecationWarning: The array interface is deprecated and will no longer work in Shapely 2.0. Convert the '.coords' to a numpy array instead.\n",
      "  vertices = concatenate([\n",
      "/Users/allisonbrusco/opt/anaconda3/envs/exl_project/lib/python3.8/site-packages/descartes/patch.py:64: ShapelyDeprecationWarning: The array interface is deprecated and will no longer work in Shapely 2.0. Convert the '.coords' to a numpy array instead.\n",
      "  [asarray(r)[:, :2] for r in t.interiors])\n"
     ]
    },
    {
     "data": {
      "text/plain": [
       "<AxesSubplot:>"
      ]
     },
     "execution_count": 118,
     "metadata": {},
     "output_type": "execute_result"
    },
    {
     "data": {
      "image/png": "[encoded data removed]",
      "text/plain": [
       "<Figure size 1080x720 with 1 Axes>"
      ]
     },
     "metadata": {
      "needs_background": "light"
     },
     "output_type": "display_data"
    }
   ],
   "source": [
    "world.plot(figsize=(15,10))"
   ]
  },
  {
   "cell_type": "code",
   "execution_count": 119,
   "id": "554ab596",
   "metadata": {},
   "outputs": [
    {
     "data": {
      "image/svg+xml": [
       "<svg xmlns=\"http://www.w3.org/2000/svg\" xmlns:xlink=\"http://www.w3.org/1999/xlink\" width=\"113.21256665112256\" height=\"100.0\" viewBox=\"-175.98416862700688 14.72313197588435 113.21256665112256 60.82768962517304\" preserveAspectRatio=\"xMinYMin meet\"><g transform=\"matrix(1,0,0,-1,0,90.27395357694175)\"><g><path fill-rule=\"evenodd\" fill=\"#66cc99\" stroke=\"#555555\" stroke-width=\"2.0\" opacity=\"0.6\" d=\"M -122.84000000000003,49.000000000000114 L -120.0,49.000000000000114 L -117.03121,49.0 L -116.04818,49.0 L -113.0,49.0 L -110.05000000000001,49.0 L -107.05000000000001,49.0 L -104.04826000000003,48.99986000000007 L -100.65000000000003,49.000000000000114 L -97.2287200000048,49.0007 L -95.15906950917206,49.0 L -95.15609,49.38425000000001 L -94.81758000000002,49.38905 L -94.64,48.84 L -94.32914000000001,48.67074 L -93.63087000000002,48.609260000000006 L -92.61000000000001,48.44999999999993 L -91.64,48.14 L -90.83,48.27 L -89.60000000000002,48.010000000000105 L -89.27291744663665,48.01980825458281 L -88.37811418328671,48.302917588893706 L -87.43979262330028,47.94 L -86.46199083122826,47.553338019392 L -85.65236324740341,47.22021881773051 L -84.8760798815149,46.90008331968238 L -84.77923824739992,46.63710195574902 L -84.54374874544584,46.538684190449146 L -84.60490000000004,46.439599999999984 L -84.33670000000001,46.408770000000004 L -84.1421195136734,46.51222585711571 L -84.0918512641615,46.27541860613826 L -83.89076534700574,46.116926988299014 L -83.61613094759059,46.116926988299014 L -83.46955074739469,45.994686387712534 L -83.59285071484311,45.81689362241252 L -82.55092464875821,45.34751658790543 L -82.33776312543114,44.440000000000055 L -82.13764238150395,43.57108755143997 L -82.42999999999999,42.980000000000004 L -82.9,42.43 L -83.12,42.08 L -83.14199968131264,41.975681057292874 L -83.029810146807,41.83279572200598 L -82.69008928092023,41.675105088867326 L -82.4392777167916,41.675105088867326 L -81.27774654816716,42.209025987306816 L -80.24744767934794,42.36619985612255 L -78.93936214874375,42.86361135514798 L -78.92,42.964999999999996 L -79.01,43.27 L -79.17167355011186,43.46633942318426 L -78.72027991404235,43.62508942318493 L -77.7378850979577,43.62905558936328 L -76.82003414580558,43.628784288093755 L -76.50000000000001,44.01845889375865 L -76.375,44.09631 L -75.31821000000001,44.81645 L -74.86700000000002,45.000480000000096 L -73.34783,45.00738 L -71.50506,45.0082 L -71.405,45.254999999999995 L -71.08482000000004,45.30524000000014 L -70.66,45.46 L -70.305,45.915 L -69.99997,46.69307 L -69.237216,47.447781 L -68.90500000000003,47.18500000000006 L -68.23444,47.354859999999974 L -67.79046000000001,47.066359999999996 L -67.79134,45.70281000000001 L -67.13741,45.13753 L -66.96465999999998,44.809700000000134 L -68.03251999999998,44.325199999999995 L -69.05999999999995,43.980000000000075 L -70.11616999999995,43.68405000000013 L -70.64547563341102,43.09023834896402 L -70.81488999999999,42.865299999999934 L -70.82499999999999,42.33499999999998 L -70.49499999999995,41.80500000000001 L -70.07999999999998,41.78000000000003 L -70.185,42.145000000000095 L -69.88496999999995,41.92283000000009 L -69.96502999999996,41.63717000000014 L -70.63999999999999,41.47500000000002 L -71.12039000000004,41.49445000000014 L -71.8599999999999,41.32000000000005 L -72.29500000000002,41.26999999999998 L -72.87643000000003,41.220650000000035 L -73.71000000000004,40.93110235165449 L -72.24125999999995,41.119480000000124 L -71.94499999999988,40.930000000000064 L -73.34499999999997,40.63000000000005 L -73.98200000000003,40.62799999999993 L -73.95232499999997,40.75075000000004 L -74.25671,40.47351000000003 L -73.96243999999996,40.42763000000002 L -74.17838,39.70925999999997 L -74.90603999999996,38.93954000000002 L -74.98041,39.19640000000004 L -75.20002,39.248450000000105 L -75.52805000000001,39.49850000000009 L -75.32,38.960000000000036 L -75.07183476478986,38.782032230179254 L -75.05672999999996,38.40412000000009 L -75.37746999999996,38.015510000000006 L -75.94022999999999,37.21689000000009 L -76.03126999999995,37.25659999999999 L -75.72204999999985,37.93705000000011 L -76.23286999999999,38.319214999999986 L -76.35000000000002,39.14999999999998 L -76.54272499999996,38.71761500000008 L -76.32933000000003,38.08326000000005 L -76.98999793161352,38.23999176691336 L -76.30161999999996,37.91794499999992 L -76.25873999999999,36.96640000000008 L -75.97179999999997,36.89726000000002 L -75.8680399999999,36.55125000000004 L -75.72748999999999,35.55074000000013 L -76.36318,34.80854000000011 L -77.39763499999992,34.512009999999975 L -78.05496,33.92547000000002 L -78.55434999999989,33.86133000000012 L -79.06067000000002,33.493949999999984 L -79.20357000000001,33.158390000000054 L -80.30132499999996,32.509355000000085 L -80.86498,32.033300000000054 L -81.33629000000002,31.44049000000001 L -81.49041999999997,30.7299900000001 L -81.31371000000001,30.035520000000076 L -80.97999999999996,29.18000000000012 L -80.53558499999991,28.472129999999993 L -80.52999999999986,28.040000000000077 L -80.05653928497759,26.88000000000011 L -80.08801499999998,26.205764999999985 L -80.13155999999992,25.816775000000064 L -80.38103000000001,25.20616000000001 L -80.67999999999995,25.08000000000004 L -81.17212999999998,25.201260000000104 L -81.33000000000004,25.639999999999986 L -81.70999999999987,25.870000000000005 L -82.23999999999995,26.730000000000132 L -82.70515,27.495040000000074 L -82.85525999999999,27.886240000000043 L -82.64999999999998,28.550000000000125 L -82.92999999999995,29.10000000000008 L -83.70958999999999,29.936560000000043 L -84.09999999999997,30.09000000000009 L -85.10881999999998,29.636150000000043 L -85.28784000000002,29.68612000000013 L -85.7731,30.152610000000095 L -86.39999999999992,30.40000000000009 L -87.53035999999992,30.27433000000002 L -88.41781999999995,30.384900000000016 L -89.1804899999999,30.315980000000025 L -89.5938311784198,30.159994004836847 L -89.41373499999997,29.89418999999998 L -89.43,29.488639999999975 L -89.21767,29.291080000000022 L -89.40822999999995,29.159610000000043 L -89.77927999999997,29.307140000000118 L -90.15463,29.11743000000007 L -90.88022499999994,29.148535000000095 L -91.62678499999993,29.677000000000135 L -92.49905999999999,29.552300000000002 L -93.22636999999997,29.783750000000055 L -93.84841999999998,29.71363000000008 L -94.69,29.480000000000132 L -95.60025999999999,28.738630000000057 L -96.59403999999995,28.307480000000055 L -97.13999999999987,27.83000000000004 L -97.36999999999995,27.380000000000052 L -97.37999999999994,26.690000000000055 L -97.32999999999998,26.210000000000093 L -97.13999999999987,25.870000000000005 L -97.52999999999992,25.84000000000009 L -98.23999999999995,26.06000000000006 L -99.01999999999992,26.37000000000006 L -99.30000000000001,26.840000000000032 L -99.51999999999992,27.54000000000002 L -100.10999999999996,28.110000000000127 L -100.45584000000002,28.69612000000012 L -100.95759999999996,29.380710000000136 L -101.66239999999999,29.77930000000009 L -102.48000000000002,29.75999999999999 L -103.11000000000001,28.970000000000027 L -103.94,29.27000000000004 L -104.4569699999999,29.571960000000047 L -104.70574999999997,30.121730000000014 L -105.03737000000001,30.644019999999955 L -105.63159000000002,31.08383000000009 L -106.1429,31.399950000000047 L -106.50758999999988,31.754520000000014 L -108.24000000000001,31.754853718166373 L -108.24193999999994,31.342220000000054 L -109.03500000000003,31.341940000000136 L -111.02361000000002,31.334719999999948 L -113.30498,32.03914000000009 L -114.815,32.52528000000001 L -114.72138999999993,32.72082999999992 L -115.99134999999995,32.61239000000012 L -117.12775999999985,32.53533999999996 L -117.29593769127393,33.04622461520387 L -117.94400000000002,33.621236431201396 L -118.41060227589753,33.74090922312445 L -118.51989482279976,34.02778157757575 L -119.08100000000002,34.07799999999992 L -119.43884064201671,34.34847717828427 L -120.36777999999998,34.447110000000066 L -120.62286,34.60854999999998 L -120.74432999999999,35.15686000000011 L -121.71456999999992,36.161529999999914 L -122.54746999999998,37.551760000000115 L -122.51201000000003,37.78339000000011 L -122.95319,38.11371000000008 L -123.72720000000004,38.95166000000012 L -123.86516999999998,39.76699000000008 L -124.39807000000002,40.313199999999995 L -124.17885999999999,41.142020000000116 L -124.21370000000002,41.99964000000011 L -124.53283999999996,42.7659900000001 L -124.14213999999998,43.708380000000034 L -124.020535,44.615894999999966 L -123.89892999999995,45.52341000000007 L -124.079635,46.864750000000015 L -124.39566999999994,47.72017000000011 L -124.68721008300781,48.18443298339855 L -124.56610107421875,48.37971496582037 L -123.12,48.04000000000002 L -122.58735999999993,47.09600000000006 L -122.34000000000003,47.360000000000014 L -122.5,48.180000000000064 L -122.84000000000003,49.000000000000114 z\" /><path fill-rule=\"evenodd\" fill=\"#66cc99\" stroke=\"#555555\" stroke-width=\"2.0\" opacity=\"0.6\" d=\"M -155.40214,20.07975 L -155.22452,19.99302 L -155.06226,19.8591 L -154.80741,19.50871 L -154.83147,19.453280000000003 L -155.22217,19.23972 L -155.54211,19.08348 L -155.68817,18.91619 L -155.93665,19.05939 L -155.90806,19.33888 L -156.07347000000001,19.70294 L -156.02368,19.81422 L -155.85008000000002,19.97729 L -155.91907,20.17395 L -155.86108000000002,20.267210000000002 L -155.78505,20.2487 L -155.40214,20.07975 z\" /><path fill-rule=\"evenodd\" fill=\"#66cc99\" stroke=\"#555555\" stroke-width=\"2.0\" opacity=\"0.6\" d=\"M -155.99566000000002,20.76404 L -156.07926,20.643970000000003 L -156.41445,20.57241 L -156.58673,20.783 L -156.70167,20.8643 L -156.71054999999998,20.92676 L -156.61258,21.01249 L -156.25711,20.917450000000002 L -155.99566000000002,20.76404 z\" /><path fill-rule=\"evenodd\" fill=\"#66cc99\" stroke=\"#555555\" stroke-width=\"2.0\" opacity=\"0.6\" d=\"M -156.75824,21.176840000000002 L -156.78933,21.068730000000002 L -157.32521,21.097770000000004 L -157.25027,21.219579999999997 L -156.75824,21.176840000000002 z\" /><path fill-rule=\"evenodd\" fill=\"#66cc99\" stroke=\"#555555\" stroke-width=\"2.0\" opacity=\"0.6\" d=\"M -158.0252,21.71696 L -157.94161,21.65272 L -157.65283000000002,21.322170000000003 L -157.70703,21.26442 L -157.7786,21.27729 L -158.12667000000002,21.31244 L -158.2538,21.53919 L -158.29265,21.57912 L -158.0252,21.71696 z\" /><path fill-rule=\"evenodd\" fill=\"#66cc99\" stroke=\"#555555\" stroke-width=\"2.0\" opacity=\"0.6\" d=\"M -159.36569,22.21494 L -159.34512,21.982000000000003 L -159.46372,21.88299 L -159.80051,22.065330000000003 L -159.74877,22.1382 L -159.5962,22.236179999999997 L -159.36569,22.21494 z\" /><path fill-rule=\"evenodd\" fill=\"#66cc99\" stroke=\"#555555\" stroke-width=\"2.0\" opacity=\"0.6\" d=\"M -166.46779212142462,60.384169826897754 L -165.67442969466364,60.29360687930625 L -165.57916419173358,59.90998688418753 L -166.19277014876727,59.75444082298899 L -166.84833736882197,59.941406155020985 L -167.45527706609008,60.21306915957936 L -166.46779212142462,60.384169826897754 z\" /><path fill-rule=\"evenodd\" fill=\"#66cc99\" stroke=\"#555555\" stroke-width=\"2.0\" opacity=\"0.6\" d=\"M -153.22872941792113,57.96896841087248 L -152.56479061583514,57.901427313866996 L -152.1411472239064,57.591058661522 L -153.00631405333692,57.11584219016593 L -154.0050902984581,56.734676825581076 L -154.51640275777004,56.99274892844669 L -154.67099280497118,57.46119578717253 L -153.7627795074415,57.81657461204373 L -153.22872941792113,57.96896841087248 z\" /><path fill-rule=\"evenodd\" fill=\"#66cc99\" stroke=\"#555555\" stroke-width=\"2.0\" opacity=\"0.6\" d=\"M -140.98598761037601,69.71199839952635 L -140.986,69.712 L -140.9925,66.00003000000001 L -140.99778,60.30639000000001 L -140.013,60.27682000000001 L -139.03900000000002,60.0 L -138.34089,59.562110000000004 L -137.4525,58.905 L -136.47972000000004,59.46389000000005 L -135.47583,59.787780000000005 L -134.94500000000005,59.2705600000001 L -134.27111000000002,58.86111000000005 L -133.35556000000003,58.41028000000001 L -132.73042,57.692890000000006 L -131.70781,56.55212 L -130.00778000000003,55.915830000000085 L -129.98,55.285000000000004 L -130.53611,54.802780000000006 L -130.53610895273684,54.80275447679924 L -130.5361101894673,54.8027534043494 L -131.08581823797215,55.17890615500204 L -131.9672114671423,55.497775580459006 L -132.2500107428595,56.3699962428974 L -133.53918108435641,57.17888743756214 L -134.07806292029608,58.12306753196691 L -135.0382110322791,58.18771474876394 L -136.62806230995471,58.21220937767043 L -137.800006279686,58.49999542910376 L -139.867787041413,59.53776154238915 L -140.825273817133,59.727517401765056 L -142.57444353556446,60.08444651960497 L -143.9588809948799,59.999180406323376 L -145.92555681682788,60.45860972761426 L -147.11437394914665,60.884656073644635 L -148.22430620012761,60.67298940697714 L -148.01806555885082,59.97832896589364 L -148.57082251686086,59.914172675203304 L -149.72785783587585,59.70565827090553 L -150.60824337461642,59.368211168039466 L -151.7163927886833,59.15582103131993 L -151.85943315326722,59.744984035879554 L -151.40971900124717,60.72580272077937 L -150.3469414947325,61.03358755150987 L -150.62111080625704,61.2844249538544 L -151.89583919981683,60.727197984451266 L -152.57832984109558,60.061657212964235 L -154.01917212625764,59.35027944603428 L -153.28751135965317,58.86472768821977 L -154.23249243875847,58.14637360293051 L -155.3074914215102,57.727794501366304 L -156.30833472392305,57.422774359763594 L -156.55609737854638,56.97998484967064 L -158.11721655986779,56.46360809999419 L -158.43332129619714,55.99415355083852 L -159.60332739971741,55.56668610292013 L -160.28971961163427,55.643580634170576 L -161.22304765525777,55.364734605523495 L -162.23776607974105,55.02418691672011 L -163.06944658104638,54.68973704692712 L -164.78556922102717,54.40417308208214 L -164.94222632552007,54.57222483989534 L -163.84833960676565,55.03943146424609 L -162.87000139061595,55.34804311789321 L -161.80417497459607,55.89498647727038 L -160.5636047027812,56.00805451112501 L -160.07055986228448,56.41805532492873 L -158.6844429189195,57.01667511659787 L -158.46109737855403,57.21692129172885 L -157.72277035218391,57.57000051536306 L -157.55027442119362,58.328326321030204 L -157.04167497457698,58.91888458926172 L -158.19473120830554,58.61580231386978 L -158.51721798402303,58.78778148053732 L -159.0586061269288,58.42418610293163 L -159.71166704001737,58.93139028587632 L -159.98128882550017,58.572549140041644 L -160.3552711659965,59.07112335879361 L -161.3550034251151,58.670837714260756 L -161.96889360252632,58.67166453717738 L -162.05498653872465,59.26692536074745 L -161.8741707021354,59.63362132429057 L -162.51805904849212,59.98972361921386 L -163.8183414378202,59.79805573184336 L -164.66221757714652,60.26748444278263 L -165.3463877024748,60.50749563256238 L -165.3508318756519,61.073895168697504 L -166.12137915755602,61.50001902937623 L -165.73445187077058,62.074996853271784 L -164.9191786367179,62.63307648380794 L -164.56250790103934,63.14637848576302 L -163.75333248599708,63.21944896102377 L -163.06722449445786,63.05945872664802 L -162.26055538638175,63.54193573674115 L -161.53444983624863,63.455816962326764 L -160.7725066803211,63.766108100023246 L -160.9583351308426,64.22279857040274 L -161.51806840721218,64.40278758407527 L -160.77777767641481,64.78860382756642 L -161.39192623598765,64.77723501246231 L -162.4530500966689,64.55944468856819 L -162.75778601789415,64.33860545516876 L -163.54639421288428,64.5591604681905 L -164.96082984114514,64.44694509546883 L -166.42528825586447,64.68667206487066 L -166.8450042389391,65.08889557561452 L -168.11056006576715,65.66999705673675 L -166.70527116602193,66.08831777613938 L -164.47470964257548,66.5766600612975 L -163.65251176659564,66.5766600612975 L -163.78860165103623,66.07720734319668 L -161.67777442121013,66.11611969671242 L -162.48971452538004,66.73556509059512 L -163.71971696679117,67.11639455837008 L -164.4309913808565,67.61633820257777 L -165.39028683170673,68.04277212185025 L -166.76444068099605,68.35887685817966 L -166.20470740462667,68.88303091091615 L -164.43081051334346,68.91553538682774 L -163.1686136546145,69.37111481391287 L -162.930566169262,69.85806183539927 L -161.90889726463556,70.33332998318764 L -160.93479651593367,70.44768992784958 L -159.03917578838713,70.89164215766891 L -158.11972286683394,70.82472117785102 L -156.58082455139808,71.35776357694175 L -155.06779029032427,71.14777639432367 L -154.3441652089412,70.69640859647018 L -153.9000062733926,70.88998851183567 L -152.21000606993528,70.82999217394485 L -152.27000240782613,70.60000621202983 L -150.73999243874448,70.43001658800569 L -149.7200030181675,70.53001048449045 L -147.61336157935705,70.2140349392418 L -145.68998980022533,70.12000967068673 L -144.9200109590764,69.98999176704046 L -143.58944618042523,70.15251414659832 L -142.07251034871348,69.85193817817265 L -140.98598752156073,69.71199839952635 L -140.98598761037601,69.71199839952635 z\" /><path fill-rule=\"evenodd\" fill=\"#66cc99\" stroke=\"#555555\" stroke-width=\"2.0\" opacity=\"0.6\" d=\"M -171.73165686753944,63.782515367275934 L -171.1144335602453,63.59219106714495 L -170.4911124339407,63.694975490973505 L -169.6825054596536,63.43111562769119 L -168.6894394603007,63.297506212000556 L -168.77194088445466,63.18859813094544 L -169.5294398672051,62.97693146427792 L -170.29055620021595,63.194437567794424 L -170.67138566799093,63.3758218451389 L -171.55306311753873,63.317789211675105 L -171.79111060289122,63.40584585230046 L -171.73165686753944,63.782515367275934 z\" /></g></g></svg>"
      ],
      "text/plain": [
       "<shapely.geometry.multipolygon.MultiPolygon at 0x7fe002f74b20>"
      ]
     },
     "execution_count": 119,
     "metadata": {},
     "output_type": "execute_result"
    }
   ],
   "source": [
    "regions = world.set_index('name')\n",
    "regions.loc['United States of America', 'geometry']"
   ]
  },
  {
   "cell_type": "code",
   "execution_count": 120,
   "id": "e65075b8",
   "metadata": {},
   "outputs": [
    {
     "name": "stderr",
     "output_type": "stream",
     "text": [
      "/Users/allisonbrusco/opt/anaconda3/envs/exl_project/lib/python3.8/site-packages/descartes/patch.py:62: ShapelyDeprecationWarning: The array interface is deprecated and will no longer work in Shapely 2.0. Convert the '.coords' to a numpy array instead.\n",
      "  vertices = concatenate([\n"
     ]
    },
    {
     "data": {
      "text/plain": [
       "(-127.5733375, -64.0785325, 24.6623184, 50.5667596)"
      ]
     },
     "execution_count": 120,
     "metadata": {},
     "output_type": "execute_result"
    },
    {
     "data": {
      "image/png": "[encoded data removed]",
      "text/plain": [
       "<Figure size 432x864 with 2 Axes>"
      ]
     },
     "metadata": {
      "needs_background": "light"
     },
     "output_type": "display_data"
    }
   ],
   "source": [
    "fig, ax = plt.subplots(figsize=(6,12))\n",
    "us_perpetrators_merged.plot(ax=ax, column = 'Perpetrators', cmap= 'coolwarm', legend= True, legend_kwds={'shrink': 0.3})\n",
    "ax.axis('off')"
   ]
  },
  {
   "cell_type": "markdown",
   "id": "58d8049e",
   "metadata": {},
   "source": [
    "THRID TRY 2010 (SUCCESSFUL)"
   ]
  },
  {
   "cell_type": "code",
   "execution_count": 121,
   "id": "94cb80dc",
   "metadata": {},
   "outputs": [],
   "source": [
    "import geopandas as gpd\n",
    "import pandas as pd\n",
    "import matplotlib.pyplot as plt"
   ]
  },
  {
   "cell_type": "code",
   "execution_count": 122,
   "id": "47006e10",
   "metadata": {},
   "outputs": [],
   "source": [
    "male_perpetrators_per_100k_people_2010 = {'STNAME' : ['Alabama', 'Alaska', 'Arizona', 'Arkansas', 'California', 'Colorado', 'Connecticut', 'Delaware', 'District of Colombia', 'Georgia', 'Hawaii', 'Idaho', 'Illinois', 'Indiana', 'Iowa', 'Kansas', 'Kentucky', 'Louisiana', 'Maine', 'Maryland', 'Massachusetts', 'Michigan', 'Minnesota', 'Mississippi', 'Missouri', 'Montana', 'Nebraska', 'Nevada', 'New Hampshire', 'New Jersey', 'New Mexico', 'New York', 'North Carolina', 'North Dakota', 'Ohio', 'Oklahoma', 'Oregon', 'Pennsylvania', 'Rhode Island', 'South Carolina', 'South Dakota', 'Tennessee', 'Texas', 'Utah', 'Vermont', 'Virginia', 'Washington', 'West Virginia', 'Wyoming'],\n",
    "                                    'Perpetrators' : [27, 108, 55, 29, 72, 54, 48, 1, 54, 84, 62, 52, 17, 41, 21, 35, 29, 52, 53, 33, 59, 35, 77, 41, 82, 22, 44, 38, 35, 38, 31, 44, 77, 110, 23, 46, 74, 58, 32, 39, 25, 43, 46, 76, 41, 31, 23, 42, 61]}"
   ]
  },
  {
   "cell_type": "code",
   "execution_count": 123,
   "id": "80597b7c",
   "metadata": {},
   "outputs": [],
   "source": [
    "df_2010 = pd.DataFrame(male_perpetrators_per_100k_people_2010)"
   ]
  },
  {
   "cell_type": "code",
   "execution_count": 124,
   "id": "705abaa6",
   "metadata": {},
   "outputs": [
    {
     "name": "stderr",
     "output_type": "stream",
     "text": [
      "/Users/allisonbrusco/opt/anaconda3/envs/exl_project/lib/python3.8/site-packages/geopandas/array.py:85: ShapelyDeprecationWarning: __len__ for multi-part geometries is deprecated and will be removed in Shapely 2.0. Check the length of the `geoms` property instead to get the  number of parts of a multi-part geometry.\n",
      "  aout[:] = out\n"
     ]
    },
    {
     "data": {
      "text/html": [
       "<div>\n",
       "<style scoped>\n",
       "    .dataframe tbody tr th:only-of-type {\n",
       "        vertical-align: middle;\n",
       "    }\n",
       "\n",
       "    .dataframe tbody tr th {\n",
       "        vertical-align: top;\n",
       "    }\n",
       "\n",
       "    .dataframe thead th {\n",
       "        text-align: right;\n",
       "    }\n",
       "</style>\n",
       "<table border=\"1\" class=\"dataframe\">\n",
       "  <thead>\n",
       "    <tr style=\"text-align: right;\">\n",
       "      <th></th>\n",
       "      <th>STATE</th>\n",
       "      <th>NAME</th>\n",
       "      <th>FIPS</th>\n",
       "      <th>LON</th>\n",
       "      <th>LAT</th>\n",
       "      <th>geometry</th>\n",
       "    </tr>\n",
       "  </thead>\n",
       "  <tbody>\n",
       "    <tr>\n",
       "      <th>0</th>\n",
       "      <td>AK</td>\n",
       "      <td>Alaska</td>\n",
       "      <td>02</td>\n",
       "      <td>-152.24098</td>\n",
       "      <td>64.24019</td>\n",
       "      <td>MULTIPOLYGON (((-179.10754 51.30120, -179.1054...</td>\n",
       "    </tr>\n",
       "    <tr>\n",
       "      <th>1</th>\n",
       "      <td>AL</td>\n",
       "      <td>Alabama</td>\n",
       "      <td>01</td>\n",
       "      <td>-86.82676</td>\n",
       "      <td>32.79354</td>\n",
       "      <td>MULTIPOLYGON (((-88.11011 30.25891, -88.10638 ...</td>\n",
       "    </tr>\n",
       "    <tr>\n",
       "      <th>2</th>\n",
       "      <td>AR</td>\n",
       "      <td>Arkansas</td>\n",
       "      <td>05</td>\n",
       "      <td>-92.43920</td>\n",
       "      <td>34.89977</td>\n",
       "      <td>POLYGON ((-91.62986 36.49921, -91.62849 36.499...</td>\n",
       "    </tr>\n",
       "    <tr>\n",
       "      <th>3</th>\n",
       "      <td>AS</td>\n",
       "      <td>American Samoa</td>\n",
       "      <td>60</td>\n",
       "      <td>-170.37215</td>\n",
       "      <td>-14.26486</td>\n",
       "      <td>MULTIPOLYGON (((-170.77310 -14.36245, -170.773...</td>\n",
       "    </tr>\n",
       "    <tr>\n",
       "      <th>4</th>\n",
       "      <td>AZ</td>\n",
       "      <td>Arizona</td>\n",
       "      <td>04</td>\n",
       "      <td>-111.66457</td>\n",
       "      <td>34.29323</td>\n",
       "      <td>POLYGON ((-110.49090 37.00361, -110.48750 37.0...</td>\n",
       "    </tr>\n",
       "  </tbody>\n",
       "</table>\n",
       "</div>"
      ],
      "text/plain": [
       "  STATE            NAME FIPS        LON       LAT  \\\n",
       "0    AK          Alaska   02 -152.24098  64.24019   \n",
       "1    AL         Alabama   01  -86.82676  32.79354   \n",
       "2    AR        Arkansas   05  -92.43920  34.89977   \n",
       "3    AS  American Samoa   60 -170.37215 -14.26486   \n",
       "4    AZ         Arizona   04 -111.66457  34.29323   \n",
       "\n",
       "                                            geometry  \n",
       "0  MULTIPOLYGON (((-179.10754 51.30120, -179.1054...  \n",
       "1  MULTIPOLYGON (((-88.11011 30.25891, -88.10638 ...  \n",
       "2  POLYGON ((-91.62986 36.49921, -91.62849 36.499...  \n",
       "3  MULTIPOLYGON (((-170.77310 -14.36245, -170.773...  \n",
       "4  POLYGON ((-110.49090 37.00361, -110.48750 37.0...  "
      ]
     },
     "execution_count": 124,
     "metadata": {},
     "output_type": "execute_result"
    }
   ],
   "source": [
    "us_states_2 = gpd.read_file('s_22mr22.shp')\n",
    "us_states_2.head()"
   ]
  },
  {
   "cell_type": "code",
   "execution_count": 125,
   "id": "8dceff24",
   "metadata": {},
   "outputs": [
    {
     "data": {
      "text/html": [
       "<div>\n",
       "<style scoped>\n",
       "    .dataframe tbody tr th:only-of-type {\n",
       "        vertical-align: middle;\n",
       "    }\n",
       "\n",
       "    .dataframe tbody tr th {\n",
       "        vertical-align: top;\n",
       "    }\n",
       "\n",
       "    .dataframe thead th {\n",
       "        text-align: right;\n",
       "    }\n",
       "</style>\n",
       "<table border=\"1\" class=\"dataframe\">\n",
       "  <thead>\n",
       "    <tr style=\"text-align: right;\">\n",
       "      <th></th>\n",
       "      <th>STATE</th>\n",
       "      <th>NAME</th>\n",
       "      <th>FIPS</th>\n",
       "      <th>LON</th>\n",
       "      <th>LAT</th>\n",
       "      <th>geometry</th>\n",
       "      <th>STNAME</th>\n",
       "      <th>Perpetrators</th>\n",
       "    </tr>\n",
       "  </thead>\n",
       "  <tbody>\n",
       "    <tr>\n",
       "      <th>0</th>\n",
       "      <td>AK</td>\n",
       "      <td>Alaska</td>\n",
       "      <td>02</td>\n",
       "      <td>-152.24098</td>\n",
       "      <td>64.24019</td>\n",
       "      <td>MULTIPOLYGON (((-179.10754 51.30120, -179.1054...</td>\n",
       "      <td>Alaska</td>\n",
       "      <td>108</td>\n",
       "    </tr>\n",
       "    <tr>\n",
       "      <th>1</th>\n",
       "      <td>AL</td>\n",
       "      <td>Alabama</td>\n",
       "      <td>01</td>\n",
       "      <td>-86.82676</td>\n",
       "      <td>32.79354</td>\n",
       "      <td>MULTIPOLYGON (((-88.11011 30.25891, -88.10638 ...</td>\n",
       "      <td>Alabama</td>\n",
       "      <td>27</td>\n",
       "    </tr>\n",
       "    <tr>\n",
       "      <th>2</th>\n",
       "      <td>AR</td>\n",
       "      <td>Arkansas</td>\n",
       "      <td>05</td>\n",
       "      <td>-92.43920</td>\n",
       "      <td>34.89977</td>\n",
       "      <td>POLYGON ((-91.62986 36.49921, -91.62849 36.499...</td>\n",
       "      <td>Arkansas</td>\n",
       "      <td>29</td>\n",
       "    </tr>\n",
       "    <tr>\n",
       "      <th>3</th>\n",
       "      <td>AZ</td>\n",
       "      <td>Arizona</td>\n",
       "      <td>04</td>\n",
       "      <td>-111.66457</td>\n",
       "      <td>34.29323</td>\n",
       "      <td>POLYGON ((-110.49090 37.00361, -110.48750 37.0...</td>\n",
       "      <td>Arizona</td>\n",
       "      <td>55</td>\n",
       "    </tr>\n",
       "    <tr>\n",
       "      <th>4</th>\n",
       "      <td>CA</td>\n",
       "      <td>California</td>\n",
       "      <td>06</td>\n",
       "      <td>-119.60818</td>\n",
       "      <td>37.24537</td>\n",
       "      <td>MULTIPOLYGON (((-118.42620 32.79973, -118.4263...</td>\n",
       "      <td>California</td>\n",
       "      <td>72</td>\n",
       "    </tr>\n",
       "  </tbody>\n",
       "</table>\n",
       "</div>"
      ],
      "text/plain": [
       "  STATE        NAME FIPS        LON       LAT  \\\n",
       "0    AK      Alaska   02 -152.24098  64.24019   \n",
       "1    AL     Alabama   01  -86.82676  32.79354   \n",
       "2    AR    Arkansas   05  -92.43920  34.89977   \n",
       "3    AZ     Arizona   04 -111.66457  34.29323   \n",
       "4    CA  California   06 -119.60818  37.24537   \n",
       "\n",
       "                                            geometry      STNAME  Perpetrators  \n",
       "0  MULTIPOLYGON (((-179.10754 51.30120, -179.1054...      Alaska           108  \n",
       "1  MULTIPOLYGON (((-88.11011 30.25891, -88.10638 ...     Alabama            27  \n",
       "2  POLYGON ((-91.62986 36.49921, -91.62849 36.499...    Arkansas            29  \n",
       "3  POLYGON ((-110.49090 37.00361, -110.48750 37.0...     Arizona            55  \n",
       "4  MULTIPOLYGON (((-118.42620 32.79973, -118.4263...  California            72  "
      ]
     },
     "execution_count": 125,
     "metadata": {},
     "output_type": "execute_result"
    }
   ],
   "source": [
    "us_vs_perpetrators_2010_merged = us_states_2.merge(df_2010, left_on='NAME', right_on='STNAME')\n",
    "us_vs_perpetrators_2010_merged.head()"
   ]
  },
  {
   "cell_type": "code",
   "execution_count": 128,
   "id": "8b6eb33b",
   "metadata": {},
   "outputs": [
    {
     "name": "stderr",
     "output_type": "stream",
     "text": [
      "/Users/allisonbrusco/opt/anaconda3/envs/exl_project/lib/python3.8/site-packages/geopandas/plotting.py:38: ShapelyDeprecationWarning: Iteration over multi-part geometries is deprecated and will be removed in Shapely 2.0. Use the `geoms` property to access the constituent parts of a multi-part geometry.\n",
      "  for poly in geom:\n",
      "/Users/allisonbrusco/opt/anaconda3/envs/exl_project/lib/python3.8/site-packages/descartes/patch.py:62: ShapelyDeprecationWarning: The array interface is deprecated and will no longer work in Shapely 2.0. Convert the '.coords' to a numpy array instead.\n",
      "  vertices = concatenate([\n",
      "/Users/allisonbrusco/opt/anaconda3/envs/exl_project/lib/python3.8/site-packages/descartes/patch.py:64: ShapelyDeprecationWarning: The array interface is deprecated and will no longer work in Shapely 2.0. Convert the '.coords' to a numpy array instead.\n",
      "  [asarray(r)[:, :2] for r in t.interiors])\n"
     ]
    },
    {
     "data": {
      "text/plain": [
       "Text(0.5, 1.0, 'Arrests Regarding Sexual Violence per 100k Citizens by State, 2010')"
      ]
     },
     "execution_count": 128,
     "metadata": {},
     "output_type": "execute_result"
    },
    {
     "data": {
      "image/png": "[encoded data removed]",
      "text/plain": [
       "<Figure size 2160x2160 with 2 Axes>"
      ]
     },
     "metadata": {
      "needs_background": "light"
     },
     "output_type": "display_data"
    }
   ],
   "source": [
    "fig, ax = plt.subplots(figsize=(30,30))\n",
    "us_vs_perpetrators_2010_merged.plot(ax=ax, column = 'Perpetrators', cmap= 'coolwarm', legend= True, legend_kwds={'shrink': 0.1})\n",
    "ax.axis('off')\n",
    "ax.set_title('Arrests Regarding Sexual Violence per 100k Citizens by State, 2010')"
   ]
  },
  {
   "cell_type": "markdown",
   "id": "3a7e45ea",
   "metadata": {},
   "source": [
    "2016"
   ]
  },
  {
   "cell_type": "code",
   "execution_count": 137,
   "id": "a408f78f",
   "metadata": {},
   "outputs": [],
   "source": [
    "male_perpetrators_per_100k_people_2016 = {'STNAME' : ['Alabama', 'Alaska', 'Arizona', 'Arkansas', 'California', 'Colorado', 'Connecticut', 'Delaware', 'District of Colombia', 'Georgia', 'Hawaii', 'Idaho', 'Illinois', 'Indiana', 'Iowa', 'Kansas', 'Kentucky', 'Louisiana', 'Maine', 'Maryland', 'Massachusetts', 'Michigan', 'Minnesota', 'Mississippi', 'Missouri', 'Montana', 'Nebraska', 'Nevada', 'New Hampshire', 'New Jersey', 'New Mexico', 'New York', 'North Carolina', 'North Dakota', 'Ohio', 'Oklahoma', 'Oregon', 'Pennsylvania', 'Rhode Island', 'South Carolina', 'South Dakota', 'Tennessee', 'Texas', 'Utah', 'Vermont', 'Virginia', 'Washington', 'West Virginia', 'Wyoming'],\n",
    "                                    'Perpetrators' : [46, 100, 49, 27, 56, 32, 32, 2, 40, 63, 49, 41, 9, 31, 22, 20, 25, 78, 37, 21, 38, 30, 59, 21, 59, 33, 30, 38, 27, 29, 22, 31, 72, 60, 18, 30, 34, 49, 33, 31, 27, 27, 38, 60, 29, 29, 24, 31, 45]}"
   ]
  },
  {
   "cell_type": "code",
   "execution_count": 138,
   "id": "4a4a8652",
   "metadata": {},
   "outputs": [],
   "source": [
    "df_2016 = pd.DataFrame(male_perpetrators_per_100k_people_2016)"
   ]
  },
  {
   "cell_type": "code",
   "execution_count": 139,
   "id": "6d2e7f81",
   "metadata": {},
   "outputs": [
    {
     "name": "stderr",
     "output_type": "stream",
     "text": [
      "/Users/allisonbrusco/opt/anaconda3/envs/exl_project/lib/python3.8/site-packages/geopandas/array.py:85: ShapelyDeprecationWarning: __len__ for multi-part geometries is deprecated and will be removed in Shapely 2.0. Check the length of the `geoms` property instead to get the  number of parts of a multi-part geometry.\n",
      "  aout[:] = out\n"
     ]
    },
    {
     "data": {
      "text/html": [
       "<div>\n",
       "<style scoped>\n",
       "    .dataframe tbody tr th:only-of-type {\n",
       "        vertical-align: middle;\n",
       "    }\n",
       "\n",
       "    .dataframe tbody tr th {\n",
       "        vertical-align: top;\n",
       "    }\n",
       "\n",
       "    .dataframe thead th {\n",
       "        text-align: right;\n",
       "    }\n",
       "</style>\n",
       "<table border=\"1\" class=\"dataframe\">\n",
       "  <thead>\n",
       "    <tr style=\"text-align: right;\">\n",
       "      <th></th>\n",
       "      <th>STATE</th>\n",
       "      <th>NAME</th>\n",
       "      <th>FIPS</th>\n",
       "      <th>LON</th>\n",
       "      <th>LAT</th>\n",
       "      <th>geometry</th>\n",
       "    </tr>\n",
       "  </thead>\n",
       "  <tbody>\n",
       "    <tr>\n",
       "      <th>0</th>\n",
       "      <td>AK</td>\n",
       "      <td>Alaska</td>\n",
       "      <td>02</td>\n",
       "      <td>-152.24098</td>\n",
       "      <td>64.24019</td>\n",
       "      <td>MULTIPOLYGON (((-179.10754 51.30120, -179.1054...</td>\n",
       "    </tr>\n",
       "    <tr>\n",
       "      <th>1</th>\n",
       "      <td>AL</td>\n",
       "      <td>Alabama</td>\n",
       "      <td>01</td>\n",
       "      <td>-86.82676</td>\n",
       "      <td>32.79354</td>\n",
       "      <td>MULTIPOLYGON (((-88.11011 30.25891, -88.10638 ...</td>\n",
       "    </tr>\n",
       "    <tr>\n",
       "      <th>2</th>\n",
       "      <td>AR</td>\n",
       "      <td>Arkansas</td>\n",
       "      <td>05</td>\n",
       "      <td>-92.43920</td>\n",
       "      <td>34.89977</td>\n",
       "      <td>POLYGON ((-91.62986 36.49921, -91.62849 36.499...</td>\n",
       "    </tr>\n",
       "    <tr>\n",
       "      <th>3</th>\n",
       "      <td>AS</td>\n",
       "      <td>American Samoa</td>\n",
       "      <td>60</td>\n",
       "      <td>-170.37215</td>\n",
       "      <td>-14.26486</td>\n",
       "      <td>MULTIPOLYGON (((-170.77310 -14.36245, -170.773...</td>\n",
       "    </tr>\n",
       "    <tr>\n",
       "      <th>4</th>\n",
       "      <td>AZ</td>\n",
       "      <td>Arizona</td>\n",
       "      <td>04</td>\n",
       "      <td>-111.66457</td>\n",
       "      <td>34.29323</td>\n",
       "      <td>POLYGON ((-110.49090 37.00361, -110.48750 37.0...</td>\n",
       "    </tr>\n",
       "  </tbody>\n",
       "</table>\n",
       "</div>"
      ],
      "text/plain": [
       "  STATE            NAME FIPS        LON       LAT  \\\n",
       "0    AK          Alaska   02 -152.24098  64.24019   \n",
       "1    AL         Alabama   01  -86.82676  32.79354   \n",
       "2    AR        Arkansas   05  -92.43920  34.89977   \n",
       "3    AS  American Samoa   60 -170.37215 -14.26486   \n",
       "4    AZ         Arizona   04 -111.66457  34.29323   \n",
       "\n",
       "                                            geometry  \n",
       "0  MULTIPOLYGON (((-179.10754 51.30120, -179.1054...  \n",
       "1  MULTIPOLYGON (((-88.11011 30.25891, -88.10638 ...  \n",
       "2  POLYGON ((-91.62986 36.49921, -91.62849 36.499...  \n",
       "3  MULTIPOLYGON (((-170.77310 -14.36245, -170.773...  \n",
       "4  POLYGON ((-110.49090 37.00361, -110.48750 37.0...  "
      ]
     },
     "execution_count": 139,
     "metadata": {},
     "output_type": "execute_result"
    }
   ],
   "source": [
    "us_states_2 = gpd.read_file('s_22mr22.shp')\n",
    "us_states_2.head()"
   ]
  },
  {
   "cell_type": "code",
   "execution_count": 140,
   "id": "266a893e",
   "metadata": {},
   "outputs": [
    {
     "data": {
      "text/html": [
       "<div>\n",
       "<style scoped>\n",
       "    .dataframe tbody tr th:only-of-type {\n",
       "        vertical-align: middle;\n",
       "    }\n",
       "\n",
       "    .dataframe tbody tr th {\n",
       "        vertical-align: top;\n",
       "    }\n",
       "\n",
       "    .dataframe thead th {\n",
       "        text-align: right;\n",
       "    }\n",
       "</style>\n",
       "<table border=\"1\" class=\"dataframe\">\n",
       "  <thead>\n",
       "    <tr style=\"text-align: right;\">\n",
       "      <th></th>\n",
       "      <th>STATE</th>\n",
       "      <th>NAME</th>\n",
       "      <th>FIPS</th>\n",
       "      <th>LON</th>\n",
       "      <th>LAT</th>\n",
       "      <th>geometry</th>\n",
       "      <th>STNAME</th>\n",
       "      <th>Perpetrators</th>\n",
       "    </tr>\n",
       "  </thead>\n",
       "  <tbody>\n",
       "    <tr>\n",
       "      <th>0</th>\n",
       "      <td>AK</td>\n",
       "      <td>Alaska</td>\n",
       "      <td>02</td>\n",
       "      <td>-152.24098</td>\n",
       "      <td>64.24019</td>\n",
       "      <td>MULTIPOLYGON (((-179.10754 51.30120, -179.1054...</td>\n",
       "      <td>Alaska</td>\n",
       "      <td>100</td>\n",
       "    </tr>\n",
       "    <tr>\n",
       "      <th>1</th>\n",
       "      <td>AL</td>\n",
       "      <td>Alabama</td>\n",
       "      <td>01</td>\n",
       "      <td>-86.82676</td>\n",
       "      <td>32.79354</td>\n",
       "      <td>MULTIPOLYGON (((-88.11011 30.25891, -88.10638 ...</td>\n",
       "      <td>Alabama</td>\n",
       "      <td>46</td>\n",
       "    </tr>\n",
       "    <tr>\n",
       "      <th>2</th>\n",
       "      <td>AR</td>\n",
       "      <td>Arkansas</td>\n",
       "      <td>05</td>\n",
       "      <td>-92.43920</td>\n",
       "      <td>34.89977</td>\n",
       "      <td>POLYGON ((-91.62986 36.49921, -91.62849 36.499...</td>\n",
       "      <td>Arkansas</td>\n",
       "      <td>27</td>\n",
       "    </tr>\n",
       "    <tr>\n",
       "      <th>3</th>\n",
       "      <td>AZ</td>\n",
       "      <td>Arizona</td>\n",
       "      <td>04</td>\n",
       "      <td>-111.66457</td>\n",
       "      <td>34.29323</td>\n",
       "      <td>POLYGON ((-110.49090 37.00361, -110.48750 37.0...</td>\n",
       "      <td>Arizona</td>\n",
       "      <td>49</td>\n",
       "    </tr>\n",
       "    <tr>\n",
       "      <th>4</th>\n",
       "      <td>CA</td>\n",
       "      <td>California</td>\n",
       "      <td>06</td>\n",
       "      <td>-119.60818</td>\n",
       "      <td>37.24537</td>\n",
       "      <td>MULTIPOLYGON (((-118.42620 32.79973, -118.4263...</td>\n",
       "      <td>California</td>\n",
       "      <td>56</td>\n",
       "    </tr>\n",
       "  </tbody>\n",
       "</table>\n",
       "</div>"
      ],
      "text/plain": [
       "  STATE        NAME FIPS        LON       LAT  \\\n",
       "0    AK      Alaska   02 -152.24098  64.24019   \n",
       "1    AL     Alabama   01  -86.82676  32.79354   \n",
       "2    AR    Arkansas   05  -92.43920  34.89977   \n",
       "3    AZ     Arizona   04 -111.66457  34.29323   \n",
       "4    CA  California   06 -119.60818  37.24537   \n",
       "\n",
       "                                            geometry      STNAME  Perpetrators  \n",
       "0  MULTIPOLYGON (((-179.10754 51.30120, -179.1054...      Alaska           100  \n",
       "1  MULTIPOLYGON (((-88.11011 30.25891, -88.10638 ...     Alabama            46  \n",
       "2  POLYGON ((-91.62986 36.49921, -91.62849 36.499...    Arkansas            27  \n",
       "3  POLYGON ((-110.49090 37.00361, -110.48750 37.0...     Arizona            49  \n",
       "4  MULTIPOLYGON (((-118.42620 32.79973, -118.4263...  California            56  "
      ]
     },
     "execution_count": 140,
     "metadata": {},
     "output_type": "execute_result"
    }
   ],
   "source": [
    "us_vs_perpetrators_2016_merged = us_states_2.merge(df_2016, left_on='NAME', right_on='STNAME')\n",
    "us_vs_perpetrators_2016_merged.head()"
   ]
  },
  {
   "cell_type": "code",
   "execution_count": 152,
   "id": "c3d2c128",
   "metadata": {},
   "outputs": [
    {
     "name": "stderr",
     "output_type": "stream",
     "text": [
      "/Users/allisonbrusco/opt/anaconda3/envs/exl_project/lib/python3.8/site-packages/geopandas/plotting.py:38: ShapelyDeprecationWarning: Iteration over multi-part geometries is deprecated and will be removed in Shapely 2.0. Use the `geoms` property to access the constituent parts of a multi-part geometry.\n",
      "  for poly in geom:\n",
      "/Users/allisonbrusco/opt/anaconda3/envs/exl_project/lib/python3.8/site-packages/descartes/patch.py:62: ShapelyDeprecationWarning: The array interface is deprecated and will no longer work in Shapely 2.0. Convert the '.coords' to a numpy array instead.\n",
      "  vertices = concatenate([\n",
      "/Users/allisonbrusco/opt/anaconda3/envs/exl_project/lib/python3.8/site-packages/descartes/patch.py:64: ShapelyDeprecationWarning: The array interface is deprecated and will no longer work in Shapely 2.0. Convert the '.coords' to a numpy array instead.\n",
      "  [asarray(r)[:, :2] for r in t.interiors])\n"
     ]
    },
    {
     "data": {
      "text/plain": [
       "Text(0.5, 1.0, 'Arrests Regarding Sexual Violence per 100k Citizens by State, 2016')"
      ]
     },
     "execution_count": 152,
     "metadata": {},
     "output_type": "execute_result"
    },
    {
     "data": {
      "image/png": "[encoded data removed]",
      "text/plain": [
       "<Figure size 2160x2160 with 2 Axes>"
      ]
     },
     "metadata": {
      "needs_background": "light"
     },
     "output_type": "display_data"
    }
   ],
   "source": [
    "fig, ax = plt.subplots(figsize=(30,30))\n",
    "us_vs_perpetrators_2016_merged.plot(ax=ax, column = 'Perpetrators', cmap= 'coolwarm', legend= True, legend_kwds={'shrink': 0.1})\n",
    "ax.axis('off')\n",
    "ax.set_title('Arrests Regarding Sexual Violence per 100k Citizens by State, 2016')"
   ]
  },
  {
   "cell_type": "markdown",
   "id": "ab0e637f",
   "metadata": {},
   "source": [
    "2005"
   ]
  },
  {
   "cell_type": "code",
   "execution_count": 143,
   "id": "cb8e6cd6",
   "metadata": {},
   "outputs": [],
   "source": [
    "male_perpetrators_per_100k_people_2005 = {'STNAME' : ['Alabama', 'Alaska', 'Arizona', 'Arkansas', 'California', 'Colorado', 'Connecticut', 'Delaware', 'District of Colombia', 'Georgia', 'Hawaii', 'Idaho', 'Illinois', 'Indiana', 'Iowa', 'Kansas', 'Kentucky', 'Louisiana', 'Maine', 'Maryland', 'Massachusetts', 'Michigan', 'Minnesota', 'Mississippi', 'Missouri', 'Montana', 'Nebraska', 'Nevada', 'New Hampshire', 'New Jersey', 'New Mexico', 'New York', 'North Carolina', 'North Dakota', 'Ohio', 'Oklahoma', 'Oregon', 'Pennsylvania', 'Rhode Island', 'South Carolina', 'South Dakota', 'Tennessee', 'Texas', 'Utah', 'Vermont', 'Virginia', 'Washington', 'West Virginia', 'Wyoming'],\n",
    "                                          'Perpetrators' : [37, 82, 64, 44, 88, 70, 59, 1, 84, 95, 55, 60, 33, 55, 31, 30, 147, 64, 61, 22, 62, 43, 78, 47, 134, 26, 57, 35, 42, 55, 30, 61, 84, 123, 36, 58, 91, 71, 45, 72, 40, 43, 60, 94, 39, 42, 27, 64, 73]}"
   ]
  },
  {
   "cell_type": "code",
   "execution_count": 144,
   "id": "306403df",
   "metadata": {},
   "outputs": [],
   "source": [
    "df_2005 = pd.DataFrame(male_perpetrators_per_100k_people_2005)"
   ]
  },
  {
   "cell_type": "code",
   "execution_count": 145,
   "id": "6e58f0bd",
   "metadata": {},
   "outputs": [
    {
     "name": "stderr",
     "output_type": "stream",
     "text": [
      "/Users/allisonbrusco/opt/anaconda3/envs/exl_project/lib/python3.8/site-packages/geopandas/array.py:85: ShapelyDeprecationWarning: __len__ for multi-part geometries is deprecated and will be removed in Shapely 2.0. Check the length of the `geoms` property instead to get the  number of parts of a multi-part geometry.\n",
      "  aout[:] = out\n"
     ]
    },
    {
     "data": {
      "text/html": [
       "<div>\n",
       "<style scoped>\n",
       "    .dataframe tbody tr th:only-of-type {\n",
       "        vertical-align: middle;\n",
       "    }\n",
       "\n",
       "    .dataframe tbody tr th {\n",
       "        vertical-align: top;\n",
       "    }\n",
       "\n",
       "    .dataframe thead th {\n",
       "        text-align: right;\n",
       "    }\n",
       "</style>\n",
       "<table border=\"1\" class=\"dataframe\">\n",
       "  <thead>\n",
       "    <tr style=\"text-align: right;\">\n",
       "      <th></th>\n",
       "      <th>STATE</th>\n",
       "      <th>NAME</th>\n",
       "      <th>FIPS</th>\n",
       "      <th>LON</th>\n",
       "      <th>LAT</th>\n",
       "      <th>geometry</th>\n",
       "    </tr>\n",
       "  </thead>\n",
       "  <tbody>\n",
       "    <tr>\n",
       "      <th>0</th>\n",
       "      <td>AK</td>\n",
       "      <td>Alaska</td>\n",
       "      <td>02</td>\n",
       "      <td>-152.24098</td>\n",
       "      <td>64.24019</td>\n",
       "      <td>MULTIPOLYGON (((-179.10754 51.30120, -179.1054...</td>\n",
       "    </tr>\n",
       "    <tr>\n",
       "      <th>1</th>\n",
       "      <td>AL</td>\n",
       "      <td>Alabama</td>\n",
       "      <td>01</td>\n",
       "      <td>-86.82676</td>\n",
       "      <td>32.79354</td>\n",
       "      <td>MULTIPOLYGON (((-88.11011 30.25891, -88.10638 ...</td>\n",
       "    </tr>\n",
       "    <tr>\n",
       "      <th>2</th>\n",
       "      <td>AR</td>\n",
       "      <td>Arkansas</td>\n",
       "      <td>05</td>\n",
       "      <td>-92.43920</td>\n",
       "      <td>34.89977</td>\n",
       "      <td>POLYGON ((-91.62986 36.49921, -91.62849 36.499...</td>\n",
       "    </tr>\n",
       "    <tr>\n",
       "      <th>3</th>\n",
       "      <td>AS</td>\n",
       "      <td>American Samoa</td>\n",
       "      <td>60</td>\n",
       "      <td>-170.37215</td>\n",
       "      <td>-14.26486</td>\n",
       "      <td>MULTIPOLYGON (((-170.77310 -14.36245, -170.773...</td>\n",
       "    </tr>\n",
       "    <tr>\n",
       "      <th>4</th>\n",
       "      <td>AZ</td>\n",
       "      <td>Arizona</td>\n",
       "      <td>04</td>\n",
       "      <td>-111.66457</td>\n",
       "      <td>34.29323</td>\n",
       "      <td>POLYGON ((-110.49090 37.00361, -110.48750 37.0...</td>\n",
       "    </tr>\n",
       "  </tbody>\n",
       "</table>\n",
       "</div>"
      ],
      "text/plain": [
       "  STATE            NAME FIPS        LON       LAT  \\\n",
       "0    AK          Alaska   02 -152.24098  64.24019   \n",
       "1    AL         Alabama   01  -86.82676  32.79354   \n",
       "2    AR        Arkansas   05  -92.43920  34.89977   \n",
       "3    AS  American Samoa   60 -170.37215 -14.26486   \n",
       "4    AZ         Arizona   04 -111.66457  34.29323   \n",
       "\n",
       "                                            geometry  \n",
       "0  MULTIPOLYGON (((-179.10754 51.30120, -179.1054...  \n",
       "1  MULTIPOLYGON (((-88.11011 30.25891, -88.10638 ...  \n",
       "2  POLYGON ((-91.62986 36.49921, -91.62849 36.499...  \n",
       "3  MULTIPOLYGON (((-170.77310 -14.36245, -170.773...  \n",
       "4  POLYGON ((-110.49090 37.00361, -110.48750 37.0...  "
      ]
     },
     "execution_count": 145,
     "metadata": {},
     "output_type": "execute_result"
    }
   ],
   "source": [
    "us_states_2 = gpd.read_file('s_22mr22.shp')\n",
    "us_states_2.head()"
   ]
  },
  {
   "cell_type": "code",
   "execution_count": 146,
   "id": "42a8b01a",
   "metadata": {},
   "outputs": [
    {
     "data": {
      "text/html": [
       "<div>\n",
       "<style scoped>\n",
       "    .dataframe tbody tr th:only-of-type {\n",
       "        vertical-align: middle;\n",
       "    }\n",
       "\n",
       "    .dataframe tbody tr th {\n",
       "        vertical-align: top;\n",
       "    }\n",
       "\n",
       "    .dataframe thead th {\n",
       "        text-align: right;\n",
       "    }\n",
       "</style>\n",
       "<table border=\"1\" class=\"dataframe\">\n",
       "  <thead>\n",
       "    <tr style=\"text-align: right;\">\n",
       "      <th></th>\n",
       "      <th>STATE</th>\n",
       "      <th>NAME</th>\n",
       "      <th>FIPS</th>\n",
       "      <th>LON</th>\n",
       "      <th>LAT</th>\n",
       "      <th>geometry</th>\n",
       "      <th>STNAME</th>\n",
       "      <th>Perpetrators</th>\n",
       "    </tr>\n",
       "  </thead>\n",
       "  <tbody>\n",
       "    <tr>\n",
       "      <th>0</th>\n",
       "      <td>AK</td>\n",
       "      <td>Alaska</td>\n",
       "      <td>02</td>\n",
       "      <td>-152.24098</td>\n",
       "      <td>64.24019</td>\n",
       "      <td>MULTIPOLYGON (((-179.10754 51.30120, -179.1054...</td>\n",
       "      <td>Alaska</td>\n",
       "      <td>82</td>\n",
       "    </tr>\n",
       "    <tr>\n",
       "      <th>1</th>\n",
       "      <td>AL</td>\n",
       "      <td>Alabama</td>\n",
       "      <td>01</td>\n",
       "      <td>-86.82676</td>\n",
       "      <td>32.79354</td>\n",
       "      <td>MULTIPOLYGON (((-88.11011 30.25891, -88.10638 ...</td>\n",
       "      <td>Alabama</td>\n",
       "      <td>37</td>\n",
       "    </tr>\n",
       "    <tr>\n",
       "      <th>2</th>\n",
       "      <td>AR</td>\n",
       "      <td>Arkansas</td>\n",
       "      <td>05</td>\n",
       "      <td>-92.43920</td>\n",
       "      <td>34.89977</td>\n",
       "      <td>POLYGON ((-91.62986 36.49921, -91.62849 36.499...</td>\n",
       "      <td>Arkansas</td>\n",
       "      <td>44</td>\n",
       "    </tr>\n",
       "    <tr>\n",
       "      <th>3</th>\n",
       "      <td>AZ</td>\n",
       "      <td>Arizona</td>\n",
       "      <td>04</td>\n",
       "      <td>-111.66457</td>\n",
       "      <td>34.29323</td>\n",
       "      <td>POLYGON ((-110.49090 37.00361, -110.48750 37.0...</td>\n",
       "      <td>Arizona</td>\n",
       "      <td>64</td>\n",
       "    </tr>\n",
       "    <tr>\n",
       "      <th>4</th>\n",
       "      <td>CA</td>\n",
       "      <td>California</td>\n",
       "      <td>06</td>\n",
       "      <td>-119.60818</td>\n",
       "      <td>37.24537</td>\n",
       "      <td>MULTIPOLYGON (((-118.42620 32.79973, -118.4263...</td>\n",
       "      <td>California</td>\n",
       "      <td>88</td>\n",
       "    </tr>\n",
       "  </tbody>\n",
       "</table>\n",
       "</div>"
      ],
      "text/plain": [
       "  STATE        NAME FIPS        LON       LAT  \\\n",
       "0    AK      Alaska   02 -152.24098  64.24019   \n",
       "1    AL     Alabama   01  -86.82676  32.79354   \n",
       "2    AR    Arkansas   05  -92.43920  34.89977   \n",
       "3    AZ     Arizona   04 -111.66457  34.29323   \n",
       "4    CA  California   06 -119.60818  37.24537   \n",
       "\n",
       "                                            geometry      STNAME  Perpetrators  \n",
       "0  MULTIPOLYGON (((-179.10754 51.30120, -179.1054...      Alaska            82  \n",
       "1  MULTIPOLYGON (((-88.11011 30.25891, -88.10638 ...     Alabama            37  \n",
       "2  POLYGON ((-91.62986 36.49921, -91.62849 36.499...    Arkansas            44  \n",
       "3  POLYGON ((-110.49090 37.00361, -110.48750 37.0...     Arizona            64  \n",
       "4  MULTIPOLYGON (((-118.42620 32.79973, -118.4263...  California            88  "
      ]
     },
     "execution_count": 146,
     "metadata": {},
     "output_type": "execute_result"
    }
   ],
   "source": [
    "us_vs_perpetrators_2005_merged = us_states_2.merge(df_2005, left_on='NAME', right_on='STNAME')\n",
    "us_vs_perpetrators_2005_merged.head()"
   ]
  },
  {
   "cell_type": "code",
   "execution_count": 147,
   "id": "d86c0991",
   "metadata": {},
   "outputs": [
    {
     "name": "stderr",
     "output_type": "stream",
     "text": [
      "/Users/allisonbrusco/opt/anaconda3/envs/exl_project/lib/python3.8/site-packages/geopandas/plotting.py:38: ShapelyDeprecationWarning: Iteration over multi-part geometries is deprecated and will be removed in Shapely 2.0. Use the `geoms` property to access the constituent parts of a multi-part geometry.\n",
      "  for poly in geom:\n",
      "/Users/allisonbrusco/opt/anaconda3/envs/exl_project/lib/python3.8/site-packages/descartes/patch.py:62: ShapelyDeprecationWarning: The array interface is deprecated and will no longer work in Shapely 2.0. Convert the '.coords' to a numpy array instead.\n",
      "  vertices = concatenate([\n",
      "/Users/allisonbrusco/opt/anaconda3/envs/exl_project/lib/python3.8/site-packages/descartes/patch.py:64: ShapelyDeprecationWarning: The array interface is deprecated and will no longer work in Shapely 2.0. Convert the '.coords' to a numpy array instead.\n",
      "  [asarray(r)[:, :2] for r in t.interiors])\n"
     ]
    },
    {
     "data": {
      "text/plain": [
       "Text(0.5, 1.0, 'Arrests Regarding Sexual Violence per 100k Citizens by State, 2005')"
      ]
     },
     "execution_count": 147,
     "metadata": {},
     "output_type": "execute_result"
    },
    {
     "data": {
      "image/png": "[encoded data removed]",
      "text/plain": [
       "<Figure size 2160x2160 with 2 Axes>"
      ]
     },
     "metadata": {
      "needs_background": "light"
     },
     "output_type": "display_data"
    }
   ],
   "source": [
    "fig, ax = plt.subplots(figsize=(30,30))\n",
    "us_vs_perpetrators_2005_merged.plot(ax=ax, column = 'Perpetrators', cmap= 'coolwarm', legend= True, legend_kwds={'shrink': 0.1})\n",
    "ax.axis('off')\n",
    "ax.set_title('Arrests Regarding Sexual Violence per 100k Citizens by State, 2005')"
   ]
  },
  {
   "cell_type": "code",
   "execution_count": 153,
   "id": "388a3046",
   "metadata": {},
   "outputs": [],
   "source": [
    "#Make all of the legends from 0 to 140 in order to have uniform changes"
   ]
  },
  {
   "cell_type": "code",
   "execution_count": null,
   "id": "c8e606c8",
   "metadata": {},
   "outputs": [],
   "source": []
  }
 ],
 "metadata": {
  "kernelspec": {
   "display_name": "Python 3 (ipykernel)",
   "language": "python",
   "name": "python3"
  },
  "language_info": {
   "codemirror_mode": {
    "name": "ipython",
    "version": 3
   },
   "file_extension": ".py",
   "mimetype": "text/x-python",
   "name": "python",
   "nbconvert_exporter": "python",
   "pygments_lexer": "ipython3",
   "version": "3.8.2"
  }
 },
 "nbformat": 4,
 "nbformat_minor": 5
}
