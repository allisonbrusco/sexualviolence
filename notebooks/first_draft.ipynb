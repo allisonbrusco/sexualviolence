{
 "cells": [
  {
   "cell_type": "markdown",
   "id": "751abbc2",
   "metadata": {},
   "source": [
    "<h1><center>A Comparison of Estimated Rates and Trends of Sexual Violence by Three Different Federal Agencies, 2010-2017</center></h1>\n",
    "<h2><center>Allison Brusco</center></h2>"
   ]
  },
  {
   "cell_type": "markdown",
   "id": "c582f802",
   "metadata": {},
   "source": [
    "<h3><center>Abstract</center></h3>\n",
    "Sexual violence is a crime that is often the source of controversy, from disagreements over true prevalence to varying definitions. It is a complex issue. In this analysis, we used data from the CDC, FBI, and DOJ  to discern trends of sexual violence from 2010 to 2017, as well as to observe any discrepancies between the rates reported in the data from the different agencies. We then compared those discernable trends and rates to arrest records to view how data regarding arrests juxtaposes data involving estimates of sexual violence. "
   ]
  },
  {
   "cell_type": "markdown",
   "id": "8d1b51e0",
   "metadata": {},
   "source": [
    "<h3><center>Introduction</center></h3>\n",
    "Sexual violence affects huge portions of the US population and is increasingly relevant in today’s society due to its violent and long term effects. Survivors often struggle with their experiences for the rest of their lives, and perpetrators often go unpunished because of underreporting and attrition of legal cases. \n",
    "\n",
    "As a result of this, many organizations struggle to estimate the full scope of the issue because of differences in definitions, surveying methods, and overall goal of their research. For example, crime reports such as the Uniform Crime Report (UCR) from the Federal Bureau of Investigation (FBI) and the National Criminal VIctimization Survey (NCSV) of the Department of Justice (DOJ) come up with extremely different data than the National Intimate Partner and Sexual Violence Survey (NISVS) from the Centers for Disease Control (CDC). Those differences make the true pervasiveness of sexual violence difficult to gauge.\n",
    "   \n",
    "Our goal for this analysis is to ascertain how accurate current data is regarding incidents of sexual violence and how that data compares to data capturing offences known to law enforcement and subsequent arrests.\n",
    "   \n",
    "My focus is less upon the scope of the issue, as it is already known to be an extremely prevalent crime, and more geared towards discovering the accuracy of existing data. I am also interested in observing overall trends of sexual violence despite the possible differences in true counts and rates. "
   ]
  },
  {
   "cell_type": "markdown",
   "id": "ce32de8c",
   "metadata": {},
   "source": [
    "<h3><center>Data</center></h3>\n",
    "The sources of data for this analysis are FBI’s Uniform Crime Report data from 2010 to 2017, regarding arrests and cases known to law enforcement, as well as the CDC’s National Intimate Partner and Sexual Violence Survey from 2010 to 2017, and the DOJ’s National Crime Victimization Survey, ranging from 1994 to 2017.\n",
    "\n",
    "Each of these datasets varies in the number of people it includes and what the data is asking. However, each covers sexual violence as a topic and is a reliable source because of their affiliation with the US federal government. The UCR Program includes data from more than 18,000 law enforcement agencies, including both federal and local groups. Each year, agencies participate voluntarily and submit their crime data to the UCR Program. The CDC uses randomized telephone calls to conduct an average total of 13,600 interviews per year for the NISVS. The NCVS is conducted by the DOJ and involves an average of 240,000 interviews across the US.\n",
    "\n",
    "The data was already aggregated by each source as well as being fully anonymous. The data is verified by the reliability of the sources as well as their trustworthy methodology."
   ]
  },
  {
   "cell_type": "markdown",
   "id": "f49d0ebf",
   "metadata": {},
   "source": [
    "<h3><center>Methodology</center></h3>\n",
    "The goal of this analysis is to investigate whether different organizations collecting data on sexual violence come up with the same estimates and rates of sexual violence as one another, and how arrests then compare to those counts, rates, and trends.\n",
    "\n",
    "There were no predictive models used in the analysis and therefore there are no predictive variables."
   ]
  },
  {
   "attachments": {},
   "cell_type": "markdown",
   "id": "7c4cc8e7",
   "metadata": {},
   "source": [
    "<h3><center>Visualizations</center></h3>\n"
   ]
  },
  {
   "cell_type": "markdown",
   "id": "d3f55cab",
   "metadata": {},
   "source": [
    "<h3><center>Findings</center></h3>\n",
    "Overall, the analysis finds that there is evidence that incidents and occurrences of sexual violence are increasing in the United States but that arrests regarding sexual violence are decreasing. Also, there is evidence of victims being less likely on average to report their victimization to the police than they are to report, meaning that a lack of arrests likely comes from a low number of reports. "
   ]
  },
  {
   "cell_type": "markdown",
   "id": "12850a49",
   "metadata": {},
   "source": [
    "<h3><center>Limitations</center></h3>\n",
    "Some limitations of this data analysis were the differing methods each agency used to conduct its research. For example, an interviewee may be less likely to report their victimization to an in-person interviewer versus an interviewer over the phone. Another limitation is the self reporting of crime data by law enforcement. This is limiting because reporting to the UCR is not required or aggressively verified and therefore is limited in its representation of arrests and offences. Finally, because three different datasets from three different agencies were used in the analysis there are likely differences in the way estimates were calculated."
   ]
  },
  {
   "cell_type": "markdown",
   "id": "97965fb6",
   "metadata": {},
   "source": [
    "<h3><center>Future Work</center></h3>\n",
    "This analysis can be further used to discover and expand ways to encourage victims to report in order to both better gauge the pervasiveness of sexual violence as well as to increase arrests and potential justice for victims. It can also be used to raise awareness about the frequency of sexual violence in our society, and how often the crime goes unnoticed or unreported."
   ]
  },
  {
   "cell_type": "markdown",
   "id": "62fdbc3a",
   "metadata": {},
   "source": [
    "<h3><center>References</center></h3>"
   ]
  },
  {
   "cell_type": "markdown",
   "id": "74cda4a1",
   "metadata": {},
   "source": [
    "<h3><center>Acknowlegements</center></h3>\n",
    "I would like to say a huge thank you to Jon Stelman, Justin Alt, Jackie Malooly, and the rest of the Renaissance team for their unmatched help and guidance through this project. I learned so much and felt supported the entire way through."
   ]
  },
  {
   "cell_type": "markdown",
   "id": "47e80bf0",
   "metadata": {},
   "source": [
    "<h3><center>Appendix</center></h3>"
   ]
  }
 ],
 "metadata": {
  "kernelspec": {
   "display_name": "Python 3 (ipykernel)",
   "language": "python",
   "name": "python3"
  },
  "language_info": {
   "codemirror_mode": {
    "name": "ipython",
    "version": 3
   },
   "file_extension": ".py",
   "mimetype": "text/x-python",
   "name": "python",
   "nbconvert_exporter": "python",
   "pygments_lexer": "ipython3",
   "version": "3.9.12"
  }
 },
 "nbformat": 4,
 "nbformat_minor": 5
}
