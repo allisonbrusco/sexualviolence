{
 "cells": [
  {
   "cell_type": "code",
   "execution_count": 23,
   "id": "bd8e44f2",
   "metadata": {},
   "outputs": [],
   "source": [
    "import pandas as pd"
   ]
  },
  {
   "cell_type": "code",
   "execution_count": 24,
   "id": "75fd80c2",
   "metadata": {},
   "outputs": [],
   "source": [
    "female_victim_characteristics_df=pd.read_csv('female-victim-characteristics.csv')"
   ]
  },
  {
   "cell_type": "code",
   "execution_count": 25,
   "id": "88391002",
   "metadata": {},
   "outputs": [],
   "source": [
    "#edited the formatting of the original .csv file using TextEdit"
   ]
  },
  {
   "cell_type": "code",
   "execution_count": 26,
   "id": "bb2584de",
   "metadata": {},
   "outputs": [
    {
     "data": {
      "text/html": [
       "<div>\n",
       "<style scoped>\n",
       "    .dataframe tbody tr th:only-of-type {\n",
       "        vertical-align: middle;\n",
       "    }\n",
       "\n",
       "    .dataframe tbody tr th {\n",
       "        vertical-align: top;\n",
       "    }\n",
       "\n",
       "    .dataframe thead th {\n",
       "        text-align: right;\n",
       "    }\n",
       "</style>\n",
       "<table border=\"1\" class=\"dataframe\">\n",
       "  <thead>\n",
       "    <tr style=\"text-align: right;\">\n",
       "      <th></th>\n",
       "      <th>Characteristic</th>\n",
       "      <th>rate</th>\n",
       "      <th>rate.1</th>\n",
       "      <th>rate.2</th>\n",
       "    </tr>\n",
       "  </thead>\n",
       "  <tbody>\n",
       "    <tr>\n",
       "      <th>0</th>\n",
       "      <td>Age</td>\n",
       "      <td>1994 to 1998</td>\n",
       "      <td>1999 to 2004</td>\n",
       "      <td>2005 to 2010</td>\n",
       "    </tr>\n",
       "    <tr>\n",
       "      <th>1</th>\n",
       "      <td>12 to 17</td>\n",
       "      <td>11.3</td>\n",
       "      <td>7.6</td>\n",
       "      <td>4.1</td>\n",
       "    </tr>\n",
       "    <tr>\n",
       "      <th>2</th>\n",
       "      <td>18 to 34</td>\n",
       "      <td>7</td>\n",
       "      <td>5.3</td>\n",
       "      <td>3.7</td>\n",
       "    </tr>\n",
       "    <tr>\n",
       "      <th>3</th>\n",
       "      <td>35 to 64</td>\n",
       "      <td>2.3</td>\n",
       "      <td>1.8</td>\n",
       "      <td>1.5</td>\n",
       "    </tr>\n",
       "    <tr>\n",
       "      <th>4</th>\n",
       "      <td>65 or older</td>\n",
       "      <td>0.1</td>\n",
       "      <td>0.2</td>\n",
       "      <td>0.2</td>\n",
       "    </tr>\n",
       "    <tr>\n",
       "      <th>5</th>\n",
       "      <td>Race</td>\n",
       "      <td>1994 to 1998</td>\n",
       "      <td>1999 to 2004</td>\n",
       "      <td>2005 to 2010</td>\n",
       "    </tr>\n",
       "    <tr>\n",
       "      <th>6</th>\n",
       "      <td>White</td>\n",
       "      <td>4.3</td>\n",
       "      <td>3.1</td>\n",
       "      <td>2.2</td>\n",
       "    </tr>\n",
       "    <tr>\n",
       "      <th>7</th>\n",
       "      <td>Black</td>\n",
       "      <td>4.2</td>\n",
       "      <td>4.1</td>\n",
       "      <td>2.8</td>\n",
       "    </tr>\n",
       "    <tr>\n",
       "      <th>8</th>\n",
       "      <td>Hispanic/Latin</td>\n",
       "      <td>4.3</td>\n",
       "      <td>1.8</td>\n",
       "      <td>1.4</td>\n",
       "    </tr>\n",
       "    <tr>\n",
       "      <th>9</th>\n",
       "      <td>American Indian/Alaska Native</td>\n",
       "      <td>6.4</td>\n",
       "      <td>4.8</td>\n",
       "      <td>4.5</td>\n",
       "    </tr>\n",
       "    <tr>\n",
       "      <th>10</th>\n",
       "      <td>Asian/Pacific Islander</td>\n",
       "      <td>2.5</td>\n",
       "      <td>1.2</td>\n",
       "      <td>0.7</td>\n",
       "    </tr>\n",
       "    <tr>\n",
       "      <th>11</th>\n",
       "      <td>Two or more races</td>\n",
       "      <td>NaN</td>\n",
       "      <td>6.6</td>\n",
       "      <td>5.1</td>\n",
       "    </tr>\n",
       "    <tr>\n",
       "      <th>12</th>\n",
       "      <td>Marital status</td>\n",
       "      <td>1994 to 1998</td>\n",
       "      <td>1999 to 2004</td>\n",
       "      <td>2005 to 2010</td>\n",
       "    </tr>\n",
       "    <tr>\n",
       "      <th>13</th>\n",
       "      <td>Never married</td>\n",
       "      <td>8.6</td>\n",
       "      <td>6.6</td>\n",
       "      <td>4.1</td>\n",
       "    </tr>\n",
       "    <tr>\n",
       "      <th>14</th>\n",
       "      <td>Married</td>\n",
       "      <td>1.3</td>\n",
       "      <td>0.7</td>\n",
       "      <td>0.6</td>\n",
       "    </tr>\n",
       "    <tr>\n",
       "      <th>15</th>\n",
       "      <td>Widowed</td>\n",
       "      <td>0.8</td>\n",
       "      <td>0.2</td>\n",
       "      <td>0.8</td>\n",
       "    </tr>\n",
       "    <tr>\n",
       "      <th>16</th>\n",
       "      <td>Divorced or separated</td>\n",
       "      <td>9</td>\n",
       "      <td>6.3</td>\n",
       "      <td>4.4</td>\n",
       "    </tr>\n",
       "    <tr>\n",
       "      <th>17</th>\n",
       "      <td>Household income</td>\n",
       "      <td>1994 to 1998</td>\n",
       "      <td>1999 to 2004</td>\n",
       "      <td>2005 to 2010</td>\n",
       "    </tr>\n",
       "    <tr>\n",
       "      <th>18</th>\n",
       "      <td>Less than $25,000</td>\n",
       "      <td>6.1</td>\n",
       "      <td>5.6</td>\n",
       "      <td>3.5</td>\n",
       "    </tr>\n",
       "    <tr>\n",
       "      <th>19</th>\n",
       "      <td>$25,000 to $49,999</td>\n",
       "      <td>3.3</td>\n",
       "      <td>2.7</td>\n",
       "      <td>1.9</td>\n",
       "    </tr>\n",
       "    <tr>\n",
       "      <th>20</th>\n",
       "      <td>$50,000 or more</td>\n",
       "      <td>2.9</td>\n",
       "      <td>2</td>\n",
       "      <td>1.8</td>\n",
       "    </tr>\n",
       "    <tr>\n",
       "      <th>21</th>\n",
       "      <td>Unknown</td>\n",
       "      <td>3.5</td>\n",
       "      <td>2.1</td>\n",
       "      <td>1.8</td>\n",
       "    </tr>\n",
       "    <tr>\n",
       "      <th>22</th>\n",
       "      <td>Location of residence</td>\n",
       "      <td>1994 to 1998</td>\n",
       "      <td>1999 to 2004</td>\n",
       "      <td>2005 to 2010</td>\n",
       "    </tr>\n",
       "    <tr>\n",
       "      <th>23</th>\n",
       "      <td>Urban</td>\n",
       "      <td>5.1</td>\n",
       "      <td>4</td>\n",
       "      <td>2.2</td>\n",
       "    </tr>\n",
       "    <tr>\n",
       "      <th>24</th>\n",
       "      <td>Suburban</td>\n",
       "      <td>3.9</td>\n",
       "      <td>2.7</td>\n",
       "      <td>1.8</td>\n",
       "    </tr>\n",
       "    <tr>\n",
       "      <th>25</th>\n",
       "      <td>Rural</td>\n",
       "      <td>3.9</td>\n",
       "      <td>2.5</td>\n",
       "      <td>3</td>\n",
       "    </tr>\n",
       "  </tbody>\n",
       "</table>\n",
       "</div>"
      ],
      "text/plain": [
       "                   Characteristic          rate        rate.1        rate.2\n",
       "0                             Age  1994 to 1998  1999 to 2004  2005 to 2010\n",
       "1                        12 to 17          11.3           7.6           4.1\n",
       "2                        18 to 34             7           5.3           3.7\n",
       "3                        35 to 64           2.3           1.8           1.5\n",
       "4                     65 or older           0.1           0.2           0.2\n",
       "5                            Race  1994 to 1998  1999 to 2004  2005 to 2010\n",
       "6                           White           4.3           3.1           2.2\n",
       "7                           Black           4.2           4.1          2.8 \n",
       "8                  Hispanic/Latin           4.3           1.8          1.4 \n",
       "9   American Indian/Alaska Native           6.4           4.8           4.5\n",
       "10         Asian/Pacific Islander           2.5           1.2           0.7\n",
       "11              Two or more races           NaN           6.6           5.1\n",
       "12                 Marital status  1994 to 1998  1999 to 2004  2005 to 2010\n",
       "13                  Never married           8.6           6.6           4.1\n",
       "14                        Married           1.3           0.7           0.6\n",
       "15                        Widowed           0.8           0.2           0.8\n",
       "16          Divorced or separated             9           6.3           4.4\n",
       "17               Household income  1994 to 1998  1999 to 2004  2005 to 2010\n",
       "18              Less than $25,000           6.1           5.6           3.5\n",
       "19             $25,000 to $49,999           3.3           2.7           1.9\n",
       "20                $50,000 or more           2.9             2           1.8\n",
       "21                        Unknown           3.5           2.1           1.8\n",
       "22          Location of residence  1994 to 1998  1999 to 2004  2005 to 2010\n",
       "23                          Urban           5.1             4           2.2\n",
       "24                       Suburban           3.9           2.7           1.8\n",
       "25                          Rural           3.9           2.5             3"
      ]
     },
     "execution_count": 26,
     "metadata": {},
     "output_type": "execute_result"
    }
   ],
   "source": [
    "female_victim_characteristics_df.head(26)"
   ]
  },
  {
   "cell_type": "code",
   "execution_count": null,
   "id": "414658a6",
   "metadata": {},
   "outputs": [],
   "source": [
    "#'rate' represents rate per 1,000 females 12 years or older, move decimal place over four for percentage"
   ]
  },
  {
   "cell_type": "code",
   "execution_count": 4,
   "id": "c0667d4c",
   "metadata": {},
   "outputs": [],
   "source": [
    "import numpy as np \n",
    "import matplotlib.pyplot as plt "
   ]
  },
  {
   "cell_type": "code",
   "execution_count": 50,
   "id": "9160154f",
   "metadata": {},
   "outputs": [],
   "source": [
    "Year=['1994 to 1998', '1999 to 2004', '2005 to 2010']\n",
    "ages_12_to_17= [11.3, 7.6, 4.1]\n",
    "ages_18_to_34= [7, 5.3, 3.7]\n",
    "ages_35_to_64= [2.3, 1.8, 1.5]\n",
    "ages_65_or_older= [.1, .2, .2]"
   ]
  },
  {
   "cell_type": "code",
   "execution_count": 51,
   "id": "4462e951",
   "metadata": {},
   "outputs": [],
   "source": [
    "x_axis = np.arange(len(Year))"
   ]
  },
  {
   "cell_type": "code",
   "execution_count": 60,
   "id": "9f77d0d7",
   "metadata": {},
   "outputs": [
    {
     "data": {
      "image/png": "[encoded data removed]",
      "text/plain": [
       "<Figure size 432x288 with 1 Axes>"
      ]
     },
     "metadata": {
      "needs_background": "light"
     },
     "output_type": "display_data"
    }
   ],
   "source": [
    "plt.bar(x_axis -0.3, ages_12_to_17, width=0.2, label = '12 to 17', color= 'blue')\n",
    "plt.bar(x_axis -0.1, ages_18_to_34, width=0.2, label = '18 to 34', color= 'orange')\n",
    "plt.bar(x_axis +0.1, ages_35_to_64, width=0.2, label = '19 to 64', color= 'green')\n",
    "plt.bar(x_axis +0.3, ages_65_or_older, width=0.2, label = '65 or older', color= 'red')\n",
    "plt.xlabel('Years')\n",
    "plt.ylabel('Rate per 1,000 females')\n",
    "plt.title('Distribution of female victims of sexual violence by age, 1994-2010')\n",
    "plt.xticks(x_axis, Year)\n",
    "plt.legend()\n",
    "plt.show()"
   ]
  },
  {
   "cell_type": "code",
   "execution_count": 65,
   "id": "545103d2",
   "metadata": {},
   "outputs": [],
   "source": [
    "Year=['1994 to 1998', '1999 to 2004', '2005 to 2010']\n",
    "White= [4.3, 3.1, 2.2]\n",
    "Black= [4.2, 4.1, 2.8]\n",
    "Hispanic_or_Latin= [4.3, 1.8, 1.4]\n",
    "American_Indian_or_Alaskan_Native= [6.4, 4.8, 4.5] \n",
    "Asian_or_Pacific_Islander= [2.5, 1.2, .7]\n",
    "Mixed_Race= [5.9, 6.6, 5.1] "
   ]
  },
  {
   "cell_type": "code",
   "execution_count": 72,
   "id": "ede3eda7",
   "metadata": {},
   "outputs": [
    {
     "data": {
      "image/png": "[encoded data removed]",
      "text/plain": [
       "<Figure size 432x288 with 1 Axes>"
      ]
     },
     "metadata": {
      "needs_background": "light"
     },
     "output_type": "display_data"
    }
   ],
   "source": [
    "plt.bar(x_axis -0.25, White, width=0.1, label = 'White', color= 'blue')\n",
    "plt.bar(x_axis -0.15, Black, width=0.1, label = 'Black', color= 'orange')\n",
    "plt.bar(x_axis -0.05, Hispanic_or_Latin, width=0.1, label = 'Hispanic/Latin', color= 'green')\n",
    "plt.bar(x_axis +0.05, American_Indian_or_Alaskan_Native, width=0.1, label = 'American Indian/ Alaskan Native', color= 'pink')\n",
    "plt.bar(x_axis +0.15, Asian_or_Pacific_Islander, width=0.1, label = 'Asian/ Pacifc Islander', color= 'purple')\n",
    "plt.bar(x_axis +0.25, Mixed_Race, width=0.1, label = 'Mixed Race', color= 'red')\n",
    "plt.xlabel('Years')\n",
    "plt.ylabel('Rate per 1,000 females')\n",
    "plt.title('Distribution of female victims of sexual violence by race, 1994-2010')\n",
    "plt.xticks(x_axis, Year)\n",
    "plt.legend(bbox_to_anchor=(1.05, 1), loc='upper left', borderaxespad=0)\n",
    "plt.show()"
   ]
  },
  {
   "cell_type": "code",
   "execution_count": null,
   "id": "cc8ea200",
   "metadata": {},
   "outputs": [],
   "source": [
    "#consider adding population distributions by race of the entire US, to show disparities"
   ]
  },
  {
   "cell_type": "code",
   "execution_count": 2,
   "id": "a6121653",
   "metadata": {},
   "outputs": [],
   "source": [
    "Year=['1994 to 1998', '1999 to 2004', '2005 to 2010']\n",
    "less_than_25000 = [6.1, 5.6, 3.5]\n",
    "from_25000_to_49999 = [3.3, 2.7, 3.9]\n",
    "more_than_50000= [2.9, 2, 1.8]\n",
    "unknown = [3.5, 2.1, 1.8]"
   ]
  },
  {
   "cell_type": "code",
   "execution_count": 5,
   "id": "d7a40c66",
   "metadata": {},
   "outputs": [],
   "source": [
    "x_axis = np.arange(len(Year))"
   ]
  },
  {
   "cell_type": "code",
   "execution_count": 6,
   "id": "0aaf3a8a",
   "metadata": {},
   "outputs": [
    {
     "data": {
      "image/png": "[encoded data removed]",
      "text/plain": [
       "<Figure size 432x288 with 1 Axes>"
      ]
     },
     "metadata": {
      "needs_background": "light"
     },
     "output_type": "display_data"
    }
   ],
   "source": [
    "plt.bar(x_axis -0.3, less_than_25000, width=0.2, label = 'Less than $25000', color= 'blue')\n",
    "plt.bar(x_axis -0.1, from_25000_to_49999, width=0.2, label = '$25000 to $49999', color= 'orange')\n",
    "plt.bar(x_axis +0.1, more_than_50000, width=0.2, label = 'Greater than $50000', color= 'green')\n",
    "plt.bar(x_axis +0.3, unknown, width=0.2, label = 'Uknown', color= 'red')\n",
    "plt.xlabel('Years')\n",
    "plt.ylabel('Rate per 1,000 females')\n",
    "plt.title('Distribution of female victims of sexual violence by income, 1994-2010')\n",
    "plt.xticks(x_axis, Year)\n",
    "plt.legend()\n",
    "plt.show()"
   ]
  },
  {
   "cell_type": "code",
   "execution_count": null,
   "id": "c41b99b7",
   "metadata": {},
   "outputs": [],
   "source": []
  }
 ],
 "metadata": {
  "kernelspec": {
   "display_name": "Python 3 (ipykernel)",
   "language": "python",
   "name": "python3"
  },
  "language_info": {
   "codemirror_mode": {
    "name": "ipython",
    "version": 3
   },
   "file_extension": ".py",
   "mimetype": "text/x-python",
   "name": "python",
   "nbconvert_exporter": "python",
   "pygments_lexer": "ipython3",
   "version": "3.9.12"
  }
 },
 "nbformat": 4,
 "nbformat_minor": 5
}
