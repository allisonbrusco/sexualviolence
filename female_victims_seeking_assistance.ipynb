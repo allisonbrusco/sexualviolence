{
 "cells": [
  {
   "cell_type": "code",
   "execution_count": 5,
   "id": "9abeccc1",
   "metadata": {},
   "outputs": [],
   "source": [
    "import pandas as pd"
   ]
  },
  {
   "cell_type": "code",
   "execution_count": 6,
   "id": "64bf0d76",
   "metadata": {},
   "outputs": [],
   "source": [
    "female_victims_that_sought_assistance_df=pd.read_csv('vicitm-assistance.csv')"
   ]
  },
  {
   "cell_type": "code",
   "execution_count": 7,
   "id": "c29b05b7",
   "metadata": {},
   "outputs": [
    {
     "data": {
      "text/html": [
       "<div>\n",
       "<style scoped>\n",
       "    .dataframe tbody tr th:only-of-type {\n",
       "        vertical-align: middle;\n",
       "    }\n",
       "\n",
       "    .dataframe tbody tr th {\n",
       "        vertical-align: top;\n",
       "    }\n",
       "\n",
       "    .dataframe thead th {\n",
       "        text-align: right;\n",
       "    }\n",
       "</style>\n",
       "<table border=\"1\" class=\"dataframe\">\n",
       "  <thead>\n",
       "    <tr style=\"text-align: right;\">\n",
       "      <th></th>\n",
       "      <th>1994 to 1998</th>\n",
       "      <th>Unnamed: 1</th>\n",
       "      <th>1999 to 2004</th>\n",
       "      <th>Unnamed: 3</th>\n",
       "      <th>2005 to 2010</th>\n",
       "      <th>Unnamed: 5</th>\n",
       "    </tr>\n",
       "  </thead>\n",
       "  <tbody>\n",
       "    <tr>\n",
       "      <th>0</th>\n",
       "      <td>Received assistance</td>\n",
       "      <td>NaN</td>\n",
       "      <td>24</td>\n",
       "      <td>28</td>\n",
       "      <td>23</td>\n",
       "      <td>NaN</td>\n",
       "    </tr>\n",
       "    <tr>\n",
       "      <th>1</th>\n",
       "      <td>Did not receive assistance</td>\n",
       "      <td>NaN</td>\n",
       "      <td>76</td>\n",
       "      <td>72</td>\n",
       "      <td>77</td>\n",
       "      <td></td>\n",
       "    </tr>\n",
       "  </tbody>\n",
       "</table>\n",
       "</div>"
      ],
      "text/plain": [
       "                 1994 to 1998  Unnamed: 1  1999 to 2004  Unnamed: 3  \\\n",
       "0         Received assistance         NaN            24          28   \n",
       "1  Did not receive assistance         NaN            76          72   \n",
       "\n",
       "   2005 to 2010 Unnamed: 5  \n",
       "0            23        NaN  \n",
       "1            77             "
      ]
     },
     "execution_count": 7,
     "metadata": {},
     "output_type": "execute_result"
    }
   ],
   "source": [
    "female_victims_that_sought_assistance_df.head()"
   ]
  },
  {
   "cell_type": "code",
   "execution_count": null,
   "id": "584fd25b",
   "metadata": {},
   "outputs": [],
   "source": []
  }
 ],
 "metadata": {
  "kernelspec": {
   "display_name": "Python 3 (ipykernel)",
   "language": "python",
   "name": "python3"
  },
  "language_info": {
   "codemirror_mode": {
    "name": "ipython",
    "version": 3
   },
   "file_extension": ".py",
   "mimetype": "text/x-python",
   "name": "python",
   "nbconvert_exporter": "python",
   "pygments_lexer": "ipython3",
   "version": "3.9.12"
  }
 },
 "nbformat": 4,
 "nbformat_minor": 5
}
